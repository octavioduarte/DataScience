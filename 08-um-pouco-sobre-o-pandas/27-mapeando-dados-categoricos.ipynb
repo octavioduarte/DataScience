{
 "cells": [
  {
   "cell_type": "markdown",
   "id": "3f2f450c-02e3-465c-bd7a-602377f633e3",
   "metadata": {
    "jp-MarkdownHeadingCollapsed": true
   },
   "source": [
    "### Preparativos do Dataset (remoção de colunas sem variação de valores e categorizando as colunas ordenadas e não ordenadas)"
   ]
  },
  {
   "cell_type": "code",
   "execution_count": 1,
   "id": "0197a2d8-20a9-4738-89a4-dc5d78008b55",
   "metadata": {},
   "outputs": [
    {
     "name": "stdout",
     "output_type": "stream",
     "text": [
      "Removendo coluna EmployeeCount\n",
      "Removendo coluna Over18\n",
      "Removendo coluna StandardHours\n"
     ]
    }
   ],
   "source": [
    "import pandas as pd\n",
    "\n",
    "BASE = \"../datasets/HR-Employee-Attrition.csv\"\n",
    "\n",
    "df = pd.read_csv(BASE)\n",
    "\n",
    "\n",
    "# Limpando a base de colunas com valores não variam e removendo a\n",
    "# coluna de identificação (EmployeeNumber)\n",
    "\n",
    "df = df.drop(\"EmployeeNumber\", axis=1)\n",
    "\n",
    "for c in df.columns:\n",
    "    column = df[c]\n",
    "    if (column.nunique() <= 1):\n",
    "        print(f\"Removendo coluna {c}\") \n",
    "        df = df.drop(c, axis=1)\n",
    "\n",
    "\n",
    "# Separando nossas colunas por variáveis categóricas ordenadas e \n",
    "# não ordernadas\n",
    "\n",
    "\n",
    "# Colunas que são categóricas e não ordenadas\n",
    "columns_categorical_not_ordered = [\n",
    "    'BusinessTravel',\n",
    "    'Department',\n",
    "    'EducationField',\n",
    "    'Gender',\n",
    "    'JobRole',\n",
    "    'MaritalStatus',\n",
    "    'OverTime'\n",
    "]\n",
    "\n",
    "# Colunas que são categóricas e ordernadas\n",
    "columns_categorical_ordered = [\n",
    "    'Education',\n",
    "    'EnvironmentSatisfaction',\n",
    "    'JobSatisfaction',\n",
    "    'JobInvolvement',\n",
    "    'JobLevel',\n",
    "    'PerformanceRating',\n",
    "    'RelationshipSatisfaction',\n",
    "    'StockOptionLevel',\n",
    "    'WorkLifeBalance',\n",
    "    'JobInvolvement'\n",
    "]\n",
    "\n",
    "target_column = ['Attrition']\n",
    "\n",
    "\n",
    "numeric_columns = [\n",
    "    column\n",
    "    for column in df.columns\n",
    "    if column not in (columns_categorical_ordered + columns_categorical_not_ordered + target_column)\n",
    "]\n",
    "\n",
    "\n",
    "# Convertendo nossas colunas não ordernadas para o tipo category\n",
    "### Preparativos do Dataset (remoção de colunas sem variação de valores e categorizando as colunas ordenadas e não ordenadas)\n",
    "for column in columns_categorical_not_ordered:\n",
    "    df[column] = df[column].astype(\"category\")"
   ]
  },
  {
   "cell_type": "markdown",
   "id": "51656f1b-1f7e-4329-a442-7c61fc86b449",
   "metadata": {},
   "source": [
    "### Mapenando colunas com uma descrição ao invés de seu valor categórico"
   ]
  },
  {
   "cell_type": "code",
   "execution_count": 12,
   "id": "871aad90-b75f-4428-9648-c11571d55b24",
   "metadata": {},
   "outputs": [
    {
     "data": {
      "text/plain": [
       "Education\n",
       "1    5640.570588\n",
       "2    6226.645390\n",
       "3    6517.263986\n",
       "4    6832.402010\n",
       "5    8277.645833\n",
       "Name: MonthlyIncome, dtype: float64"
      ]
     },
     "execution_count": 12,
     "metadata": {},
     "output_type": "execute_result"
    }
   ],
   "source": [
    "df.groupby(\"Education\", observed=True)[\"MonthlyIncome\"].mean()"
   ]
  },
  {
   "cell_type": "markdown",
   "id": "9d9efe4d-d144-4b47-8d68-dd7efcca1027",
   "metadata": {},
   "source": [
    "A coluna \"Education\" é categórica e é comum que valores categóricos sejam representados por números que por sua vez representamo outros valores.\n",
    "\n",
    "Na documentação deste Dataset (em https://www.kaggle.com/datasets/pavansubhasht/ibm-hr-analytics-attrition-dataset) a coluna \"Education\" é descrita da seguinte forma: \n",
    "\n",
    "    Education\n",
    "    1 'Below College'\n",
    "    2 'College'\n",
    "    3 'Bachelor'\n",
    "    4 'Master'\n",
    "    5 'Doctor'\n",
    "\n",
    "\n",
    "Podemos mepear os valores acima da seguinte forma: "
   ]
  },
  {
   "cell_type": "code",
   "execution_count": 24,
   "id": "28f0289b-9d69-4881-aaa7-459785f22899",
   "metadata": {},
   "outputs": [
    {
     "data": {
      "text/plain": [
       "Education\n",
       "Below College    5640.570588\n",
       "College          6226.645390\n",
       "Bachelor         6517.263986\n",
       "Master           6832.402010\n",
       "Doctor           8277.645833\n",
       "Name: MonthlyIncome, dtype: float64"
      ]
     },
     "execution_count": 24,
     "metadata": {},
     "output_type": "execute_result"
    }
   ],
   "source": [
    "# dicionário que vai conter os valores e ter como chave o valor categórico:\n",
    "\n",
    "education_map = {\n",
    "    1: 'Below College',\n",
    "    2: 'College',\n",
    "    3: 'Bachelor',\n",
    "    4: 'Master',\n",
    "    5: 'Doctor'\n",
    "}\n",
    "\n",
    "\n",
    "mean_by_education_level = df.groupby(\"Education\", observed=True)[\"MonthlyIncome\"].mean()                        \n",
    "mean_by_education_level.rename(index=education_map)\n",
    "\n",
    "\n",
    "# o método rename renomeia os valores do indice de acordo com um dicionário"
   ]
  },
  {
   "cell_type": "markdown",
   "id": "83a1f1a4-c5a1-4a27-a74a-8d6fa1dfb443",
   "metadata": {},
   "source": [
    "### Utilizando o .rename com o .crosstab"
   ]
  },
  {
   "cell_type": "code",
   "execution_count": 31,
   "id": "280da7af-39b4-467c-997a-3c0b0c467899",
   "metadata": {},
   "outputs": [
    {
     "data": {
      "text/html": [
       "<div>\n",
       "<style scoped>\n",
       "    .dataframe tbody tr th:only-of-type {\n",
       "        vertical-align: middle;\n",
       "    }\n",
       "\n",
       "    .dataframe tbody tr th {\n",
       "        vertical-align: top;\n",
       "    }\n",
       "\n",
       "    .dataframe thead th {\n",
       "        text-align: right;\n",
       "    }\n",
       "</style>\n",
       "<table border=\"1\" class=\"dataframe\">\n",
       "  <thead>\n",
       "    <tr style=\"text-align: right;\">\n",
       "      <th>Attrition</th>\n",
       "      <th>No</th>\n",
       "      <th>Yes</th>\n",
       "      <th>Total</th>\n",
       "    </tr>\n",
       "    <tr>\n",
       "      <th>Education</th>\n",
       "      <th></th>\n",
       "      <th></th>\n",
       "      <th></th>\n",
       "    </tr>\n",
       "  </thead>\n",
       "  <tbody>\n",
       "    <tr>\n",
       "      <th>Below College</th>\n",
       "      <td>139</td>\n",
       "      <td>31</td>\n",
       "      <td>170</td>\n",
       "    </tr>\n",
       "    <tr>\n",
       "      <th>College</th>\n",
       "      <td>238</td>\n",
       "      <td>44</td>\n",
       "      <td>282</td>\n",
       "    </tr>\n",
       "    <tr>\n",
       "      <th>Bachelor</th>\n",
       "      <td>473</td>\n",
       "      <td>99</td>\n",
       "      <td>572</td>\n",
       "    </tr>\n",
       "    <tr>\n",
       "      <th>Master</th>\n",
       "      <td>340</td>\n",
       "      <td>58</td>\n",
       "      <td>398</td>\n",
       "    </tr>\n",
       "    <tr>\n",
       "      <th>Doctor</th>\n",
       "      <td>43</td>\n",
       "      <td>5</td>\n",
       "      <td>48</td>\n",
       "    </tr>\n",
       "    <tr>\n",
       "      <th>Total</th>\n",
       "      <td>1233</td>\n",
       "      <td>237</td>\n",
       "      <td>1470</td>\n",
       "    </tr>\n",
       "  </tbody>\n",
       "</table>\n",
       "</div>"
      ],
      "text/plain": [
       "Attrition        No  Yes  Total\n",
       "Education                      \n",
       "Below College   139   31    170\n",
       "College         238   44    282\n",
       "Bachelor        473   99    572\n",
       "Master          340   58    398\n",
       "Doctor           43    5     48\n",
       "Total          1233  237   1470"
      ]
     },
     "execution_count": 31,
     "metadata": {},
     "output_type": "execute_result"
    }
   ],
   "source": [
    "pd.crosstab(\n",
    "    df[\"Education\"],          # Significa que desejo obter a relação entre \"Attrition\" e \"Education\"\n",
    "    df[\"Attrition\"],          # Significa que desejo obter a relação entre \"Attrition\" e \"Education\"\n",
    "    margins=True,             # Desejo obter a soma dos valore s\n",
    "    margins_name=\"Total\",     # Por default a coluna \"margins\" chamse \"all\", este argumento a renomeia\n",
    ").rename(index=education_map) # Renomeando os indexes retornados pelo crosstab"
   ]
  },
  {
   "cell_type": "markdown",
   "id": "027756c0-8243-4544-aa28-fa7cd4788e89",
   "metadata": {},
   "source": [
    "### Ou..."
   ]
  },
  {
   "cell_type": "code",
   "execution_count": 32,
   "id": "0a9b9c4a-ab9a-4c35-aa6d-ac2104d9acbc",
   "metadata": {},
   "outputs": [
    {
     "data": {
      "text/html": [
       "<div>\n",
       "<style scoped>\n",
       "    .dataframe tbody tr th:only-of-type {\n",
       "        vertical-align: middle;\n",
       "    }\n",
       "\n",
       "    .dataframe tbody tr th {\n",
       "        vertical-align: top;\n",
       "    }\n",
       "\n",
       "    .dataframe thead th {\n",
       "        text-align: right;\n",
       "    }\n",
       "</style>\n",
       "<table border=\"1\" class=\"dataframe\">\n",
       "  <thead>\n",
       "    <tr style=\"text-align: right;\">\n",
       "      <th>Attrition</th>\n",
       "      <th>No</th>\n",
       "      <th>Yes</th>\n",
       "    </tr>\n",
       "    <tr>\n",
       "      <th>Education</th>\n",
       "      <th></th>\n",
       "      <th></th>\n",
       "    </tr>\n",
       "  </thead>\n",
       "  <tbody>\n",
       "    <tr>\n",
       "      <th>Below College</th>\n",
       "      <td>0.817647</td>\n",
       "      <td>0.182353</td>\n",
       "    </tr>\n",
       "    <tr>\n",
       "      <th>College</th>\n",
       "      <td>0.843972</td>\n",
       "      <td>0.156028</td>\n",
       "    </tr>\n",
       "    <tr>\n",
       "      <th>Bachelor</th>\n",
       "      <td>0.826923</td>\n",
       "      <td>0.173077</td>\n",
       "    </tr>\n",
       "    <tr>\n",
       "      <th>Master</th>\n",
       "      <td>0.854271</td>\n",
       "      <td>0.145729</td>\n",
       "    </tr>\n",
       "    <tr>\n",
       "      <th>Doctor</th>\n",
       "      <td>0.895833</td>\n",
       "      <td>0.104167</td>\n",
       "    </tr>\n",
       "  </tbody>\n",
       "</table>\n",
       "</div>"
      ],
      "text/plain": [
       "Attrition            No       Yes\n",
       "Education                        \n",
       "Below College  0.817647  0.182353\n",
       "College        0.843972  0.156028\n",
       "Bachelor       0.826923  0.173077\n",
       "Master         0.854271  0.145729\n",
       "Doctor         0.895833  0.104167"
      ]
     },
     "execution_count": 32,
     "metadata": {},
     "output_type": "execute_result"
    }
   ],
   "source": [
    "pd.crosstab(\n",
    "    df[\"Education\"],          # Significa que desejo obter a relação entre \"Attrition\" e \"Education\"\n",
    "    df[\"Attrition\"],          # Significa que desejo obter a relação entre \"Attrition\" e \"Education\"\n",
    "    normalize=\"index\"         # Desejo obter o percentual por indice\n",
    ").rename(index=education_map) # Renomeando os indexes retornados pelo crosstab"
   ]
  }
 ],
 "metadata": {
  "kernelspec": {
   "display_name": "Python 3 (ipykernel)",
   "language": "python",
   "name": "python3"
  },
  "language_info": {
   "codemirror_mode": {
    "name": "ipython",
    "version": 3
   },
   "file_extension": ".py",
   "mimetype": "text/x-python",
   "name": "python",
   "nbconvert_exporter": "python",
   "pygments_lexer": "ipython3",
   "version": "3.11.7"
  }
 },
 "nbformat": 4,
 "nbformat_minor": 5
}
