{
 "cells": [
  {
   "cell_type": "markdown",
   "id": "99863cf5-103a-4e29-a311-c9fb6b33f3dd",
   "metadata": {},
   "source": [
    "### Função cut\n",
    "\n",
    "Utilizamos a função cut quando desejamos categorizar intervalos de dados de um dataset. No exemplo abaixo vamos utilizar o dataset da IBM e dividir os funcionários em intervalos de idades (conforme feito no arquivo 28-histogramas) e com os dados divididos em diferentes intervalos de idades vamos categoriza-los.\n",
    "\n",
    "\n",
    "https://pandas.pydata.org/docs/reference/api/pandas.cut.html"
   ]
  },
  {
   "cell_type": "markdown",
   "id": "aefb1152-eeb6-4f25-9259-2994fb7a31f2",
   "metadata": {
    "jp-MarkdownHeadingCollapsed": true
   },
   "source": [
    "### Preparativos do Dataset (remoção de colunas sem variação de valores e categorizando as colunas ordenadas e não ordenadas)"
   ]
  },
  {
   "cell_type": "code",
   "execution_count": 1,
   "id": "0d1e8119-2781-4f8b-9926-af67973a78ca",
   "metadata": {},
   "outputs": [
    {
     "name": "stdout",
     "output_type": "stream",
     "text": [
      "Removendo coluna EmployeeCount\n",
      "Removendo coluna Over18\n",
      "Removendo coluna StandardHours\n"
     ]
    }
   ],
   "source": [
    "import pandas as pd\n",
    "\n",
    "BASE = \"../datasets/HR-Employee-Attrition.csv\"\n",
    "\n",
    "df = pd.read_csv(BASE)\n",
    "\n",
    "\n",
    "# Limpando a base de colunas com valores não variam e removendo a\n",
    "# coluna de identificação (EmployeeNumber)\n",
    "\n",
    "df = df.drop(\"EmployeeNumber\", axis=1)\n",
    "\n",
    "for c in df.columns:\n",
    "    column = df[c]\n",
    "    if (column.nunique() <= 1):\n",
    "        print(f\"Removendo coluna {c}\") \n",
    "        df = df.drop(c, axis=1)\n",
    "\n",
    "\n",
    "# Separando nossas colunas por variáveis categóricas ordenadas e \n",
    "# não ordernadas\n",
    "\n",
    "\n",
    "# Colunas que são categóricas e não ordenadas\n",
    "columns_categorical_not_ordered = [\n",
    "    'BusinessTravel',\n",
    "    'Department',\n",
    "    'EducationField',\n",
    "    'Gender',\n",
    "    'JobRole',\n",
    "    'MaritalStatus',\n",
    "    'OverTime'\n",
    "]\n",
    "\n",
    "# Colunas que são categóricas e ordernadas\n",
    "columns_categorical_ordered = [\n",
    "    'Education',\n",
    "    'EnvironmentSatisfaction',\n",
    "    'JobSatisfaction',\n",
    "    'JobInvolvement',\n",
    "    'JobLevel',\n",
    "    'PerformanceRating',\n",
    "    'RelationshipSatisfaction',\n",
    "    'StockOptionLevel',\n",
    "    'WorkLifeBalance',\n",
    "    'JobInvolvement'\n",
    "]\n",
    "\n",
    "target_column = ['Attrition']\n",
    "\n",
    "\n",
    "numeric_columns = [\n",
    "    column\n",
    "    for column in df.columns\n",
    "    if column not in (columns_categorical_ordered + columns_categorical_not_ordered + target_column)\n",
    "]\n",
    "\n",
    "\n",
    "# Convertendo nossas colunas não ordernadas para o tipo category\n",
    "### Preparativos do Dataset (remoção de colunas sem variação de valores e categorizando as colunas ordenadas e não ordenadas)\n",
    "for column in columns_categorical_not_ordered:\n",
    "    df[column] = df[column].astype(\"category\")"
   ]
  },
  {
   "cell_type": "markdown",
   "id": "f4fc2078-2cdb-4fee-8475-e06d261fb1e1",
   "metadata": {},
   "source": [
    "### Criação de categorias com base na idade utilizando a função cut"
   ]
  },
  {
   "cell_type": "code",
   "execution_count": 32,
   "id": "9eccce1b-c1b0-4eee-a16e-ce2733744c15",
   "metadata": {},
   "outputs": [],
   "source": [
    "# Definindo os intervalos de idade e seus respectivos rótulos\n",
    "\n",
    "age_groups = [0, 20, 30, 50, float(\"inf\")] #leia-se (0-20], (20-30], (30-50], (50-inf]\n",
    "labels = [\"Adolescent\", \"Young adult\", \"Mature adult\", \"Senior adult\"]\n",
    "\n",
    "# Adicionando nova coluna categórica no DataFrame seguindo os rótulos definidos acima  \n",
    "\n",
    "df[\"AgeGroup\"] = pd.cut(df[\"Age\"], bins=age_groups, labels=labels)"
   ]
  },
  {
   "cell_type": "code",
   "execution_count": 10,
   "id": "b7cb8d07-3784-4951-8880-2ced2657c6e4",
   "metadata": {},
   "outputs": [
    {
     "name": "stdout",
     "output_type": "stream",
     "text": [
      "<class 'pandas.core.frame.DataFrame'>\n",
      "RangeIndex: 1470 entries, 0 to 1469\n",
      "Data columns (total 32 columns):\n",
      " #   Column                    Non-Null Count  Dtype   \n",
      "---  ------                    --------------  -----   \n",
      " 0   Age                       1470 non-null   int64   \n",
      " 1   Attrition                 1470 non-null   object  \n",
      " 2   BusinessTravel            1470 non-null   category\n",
      " 3   DailyRate                 1470 non-null   int64   \n",
      " 4   Department                1470 non-null   category\n",
      " 5   DistanceFromHome          1470 non-null   int64   \n",
      " 6   Education                 1470 non-null   int64   \n",
      " 7   EducationField            1470 non-null   category\n",
      " 8   EnvironmentSatisfaction   1470 non-null   int64   \n",
      " 9   Gender                    1470 non-null   category\n",
      " 10  HourlyRate                1470 non-null   int64   \n",
      " 11  JobInvolvement            1470 non-null   int64   \n",
      " 12  JobLevel                  1470 non-null   int64   \n",
      " 13  JobRole                   1470 non-null   category\n",
      " 14  JobSatisfaction           1470 non-null   int64   \n",
      " 15  MaritalStatus             1470 non-null   category\n",
      " 16  MonthlyIncome             1470 non-null   int64   \n",
      " 17  MonthlyRate               1470 non-null   int64   \n",
      " 18  NumCompaniesWorked        1470 non-null   int64   \n",
      " 19  OverTime                  1470 non-null   category\n",
      " 20  PercentSalaryHike         1470 non-null   int64   \n",
      " 21  PerformanceRating         1470 non-null   int64   \n",
      " 22  RelationshipSatisfaction  1470 non-null   int64   \n",
      " 23  StockOptionLevel          1470 non-null   int64   \n",
      " 24  TotalWorkingYears         1470 non-null   int64   \n",
      " 25  TrainingTimesLastYear     1470 non-null   int64   \n",
      " 26  WorkLifeBalance           1470 non-null   int64   \n",
      " 27  YearsAtCompany            1470 non-null   int64   \n",
      " 28  YearsInCurrentRole        1470 non-null   int64   \n",
      " 29  YearsSinceLastPromotion   1470 non-null   int64   \n",
      " 30  YearsWithCurrManager      1470 non-null   int64   \n",
      " 31  AgeGroup                  1470 non-null   category\n",
      "dtypes: category(8), int64(23), object(1)\n",
      "memory usage: 288.6+ KB\n"
     ]
    }
   ],
   "source": [
    "# AgeGroup foi adicionada como uma coluna categórica\n",
    "\n",
    "df.info()"
   ]
  },
  {
   "cell_type": "code",
   "execution_count": 15,
   "id": "18ecadcc-8ac1-4b7e-acbc-93a678894f95",
   "metadata": {},
   "outputs": [
    {
     "name": "stdout",
     "output_type": "stream",
     "text": [
      "BusinessTravel\n",
      "BusinessTravel.cat.categories: Index(['Non-Travel', 'Travel_Frequently', 'Travel_Rarely'], dtype='object')\n",
      "BusinessTravel.cat.ordered: False\n",
      "BusinessTravel.cat.codes: [2 1 0]\n",
      "\n",
      "Department\n",
      "Department.cat.categories: Index(['Human Resources', 'Research & Development', 'Sales'], dtype='object')\n",
      "Department.cat.ordered: False\n",
      "Department.cat.codes: [2 1 0]\n",
      "\n",
      "EducationField\n",
      "EducationField.cat.categories: Index(['Human Resources', 'Life Sciences', 'Marketing', 'Medical', 'Other',\n",
      "       'Technical Degree'],\n",
      "      dtype='object')\n",
      "EducationField.cat.ordered: False\n",
      "EducationField.cat.codes: [1 4 3 2 5 0]\n",
      "\n",
      "Gender\n",
      "Gender.cat.categories: Index(['Female', 'Male'], dtype='object')\n",
      "Gender.cat.ordered: False\n",
      "Gender.cat.codes: [0 1]\n",
      "\n",
      "JobRole\n",
      "JobRole.cat.categories: Index(['Healthcare Representative', 'Human Resources', 'Laboratory Technician',\n",
      "       'Manager', 'Manufacturing Director', 'Research Director',\n",
      "       'Research Scientist', 'Sales Executive', 'Sales Representative'],\n",
      "      dtype='object')\n",
      "JobRole.cat.ordered: False\n",
      "JobRole.cat.codes: [7 6 2 4 0 3 8 5 1]\n",
      "\n",
      "MaritalStatus\n",
      "MaritalStatus.cat.categories: Index(['Divorced', 'Married', 'Single'], dtype='object')\n",
      "MaritalStatus.cat.ordered: False\n",
      "MaritalStatus.cat.codes: [2 1 0]\n",
      "\n",
      "OverTime\n",
      "OverTime.cat.categories: Index(['No', 'Yes'], dtype='object')\n",
      "OverTime.cat.ordered: False\n",
      "OverTime.cat.codes: [1 0]\n",
      "\n",
      "AgeGroup\n",
      "AgeGroup.cat.categories: Index(['Adolescent', 'Young adult', 'Mature adult', 'Senior adult'], dtype='object')\n",
      "AgeGroup.cat.ordered: True\n",
      "AgeGroup.cat.codes: [2 1 3 0]\n",
      "\n"
     ]
    }
   ],
   "source": [
    "#  Podemos visualizar os detalhes das coluans categóricas e verificar que \n",
    "#\"AgeGroup\" foi adicionada como uma coluna categórica ordenada\n",
    "\n",
    "for column in df.select_dtypes(include=\"category\"):\n",
    "    print(column)\n",
    "    print(f\"{column}.cat.categories: {df[column].cat.categories}\")\n",
    "    print(f\"{column}.cat.ordered: {df[column].cat.ordered}\")\n",
    "    print(f\"{column}.cat.codes: {df[column].cat.codes.unique()}\")\n",
    "    print()"
   ]
  },
  {
   "cell_type": "markdown",
   "id": "261ee518-2166-4d79-a6e7-e2b30a37f8d6",
   "metadata": {},
   "source": [
    "### As vantagens que temos em determinar colunas como categóricas ordenadas (quando de fato são)"
   ]
  },
  {
   "cell_type": "markdown",
   "id": "14e06672-1c89-4cc1-8fbc-9fd97710a0f0",
   "metadata": {},
   "source": [
    "Além de performance (pois o tipo object por ser mais genérico exige mais processamento) ganhamos também algumas facilidades para visualizar as informações do nossos valores categóricos"
   ]
  },
  {
   "cell_type": "code",
   "execution_count": 18,
   "id": "2fdc1521-e7f8-43a2-8a11-6b70d1259fa6",
   "metadata": {},
   "outputs": [
    {
     "data": {
      "text/plain": [
       "AgeGroup\n",
       "Adolescent       28\n",
       "Young adult     358\n",
       "Mature adult    941\n",
       "Senior adult    143\n",
       "Name: count, dtype: int64"
      ]
     },
     "execution_count": 18,
     "metadata": {},
     "output_type": "execute_result"
    }
   ],
   "source": [
    "df[\"AgeGroup\"].value_counts().sort_index()"
   ]
  },
  {
   "cell_type": "markdown",
   "id": "4f19dabe-1ac8-48b3-abf6-3bbc1a27dec9",
   "metadata": {},
   "source": [
    "Repare que no código acima o Pandas nos devolveu os resultados entendendo que há uma hierarquia entre os dados, ao contrário do que seria retornado em uma coluna não categórica onde não há qualquer relação entre as classes então o critério de organização do Pandas é nos devolver os dados em ordem alfabética."
   ]
  },
  {
   "cell_type": "markdown",
   "id": "c2ad6c91-1b7f-420f-9365-f3dfbf7a0161",
   "metadata": {},
   "source": [
    "#### Explorando visualmente nossa coluna\n",
    "\n",
    "É importante entendermos que histogramas são termos que não são compreendidos por um público fora do contexto mais técnico, em alguns casos vale separamos nossos dados em grupos (como fizemos com o cut) e apresentarmos a concentração de dados em determinadas categorias através do gráfico de barras ou tabelas com o crosstab. "
   ]
  },
  {
   "cell_type": "code",
   "execution_count": 22,
   "id": "e44d33e7-e0cd-467e-8084-c67494b93644",
   "metadata": {},
   "outputs": [
    {
     "data": {
      "text/plain": [
       "<Axes: xlabel='AgeGroup'>"
      ]
     },
     "execution_count": 22,
     "metadata": {},
     "output_type": "execute_result"
    },
    {
     "data": {
      "image/png": "[encoded data removed]",
      "text/plain": [
       "<Figure size 640x480 with 1 Axes>"
      ]
     },
     "metadata": {},
     "output_type": "display_data"
    }
   ],
   "source": [
    "df[\"AgeGroup\"].value_counts().sort_index().plot.bar()"
   ]
  },
  {
   "cell_type": "code",
   "execution_count": 31,
   "id": "c7478868-e290-4816-8fd6-eae754bdab5f",
   "metadata": {},
   "outputs": [
    {
     "data": {
      "text/html": [
       "<div>\n",
       "<style scoped>\n",
       "    .dataframe tbody tr th:only-of-type {\n",
       "        vertical-align: middle;\n",
       "    }\n",
       "\n",
       "    .dataframe tbody tr th {\n",
       "        vertical-align: top;\n",
       "    }\n",
       "\n",
       "    .dataframe thead th {\n",
       "        text-align: right;\n",
       "    }\n",
       "</style>\n",
       "<table border=\"1\" class=\"dataframe\">\n",
       "  <thead>\n",
       "    <tr style=\"text-align: right;\">\n",
       "      <th>Attrition</th>\n",
       "      <th>No</th>\n",
       "      <th>Yes</th>\n",
       "    </tr>\n",
       "    <tr>\n",
       "      <th>AgeGroup</th>\n",
       "      <th></th>\n",
       "      <th></th>\n",
       "    </tr>\n",
       "  </thead>\n",
       "  <tbody>\n",
       "    <tr>\n",
       "      <th>Adolescent</th>\n",
       "      <td>42.86</td>\n",
       "      <td>57.14</td>\n",
       "    </tr>\n",
       "    <tr>\n",
       "      <th>Young adult</th>\n",
       "      <td>76.54</td>\n",
       "      <td>23.46</td>\n",
       "    </tr>\n",
       "    <tr>\n",
       "      <th>Mature adult</th>\n",
       "      <td>87.35</td>\n",
       "      <td>12.65</td>\n",
       "    </tr>\n",
       "    <tr>\n",
       "      <th>Senior adult</th>\n",
       "      <td>87.41</td>\n",
       "      <td>12.59</td>\n",
       "    </tr>\n",
       "  </tbody>\n",
       "</table>\n",
       "</div>"
      ],
      "text/plain": [
       "Attrition        No    Yes\n",
       "AgeGroup                  \n",
       "Adolescent    42.86  57.14\n",
       "Young adult   76.54  23.46\n",
       "Mature adult  87.35  12.65\n",
       "Senior adult  87.41  12.59"
      ]
     },
     "execution_count": 31,
     "metadata": {},
     "output_type": "execute_result"
    }
   ],
   "source": [
    "pd.crosstab(df[\"AgeGroup\"], df[\"Attrition\"], normalize=\"index\").mul(100).round(2)"
   ]
  }
 ],
 "metadata": {
  "kernelspec": {
   "display_name": "Python 3 (ipykernel)",
   "language": "python",
   "name": "python3"
  },
  "language_info": {
   "codemirror_mode": {
    "name": "ipython",
    "version": 3
   },
   "file_extension": ".py",
   "mimetype": "text/x-python",
   "name": "python",
   "nbconvert_exporter": "python",
   "pygments_lexer": "ipython3",
   "version": "3.11.7"
  }
 },
 "nbformat": 4,
 "nbformat_minor": 5
}
