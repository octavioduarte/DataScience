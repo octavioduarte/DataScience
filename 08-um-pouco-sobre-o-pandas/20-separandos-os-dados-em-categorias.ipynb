{
 "cells": [
  {
   "cell_type": "code",
   "execution_count": 53,
   "id": "a4c74ff4-87ed-4d32-8119-76494ff12e94",
   "metadata": {},
   "outputs": [],
   "source": [
    "import pandas as pd\n",
    "\n",
    "BASE = \"../datasets/HR-Employee-Attrition.csv\"\n",
    "\n",
    "df = pd.read_csv(BASE)"
   ]
  },
  {
   "cell_type": "markdown",
   "id": "3a59b85c-617b-4dc8-bdef-1aaf07a84cec",
   "metadata": {},
   "source": [
    "#### Limpando a base de colunas com valores não variam e removendo a coluna de identificação (EmployeeNumber)"
   ]
  },
  {
   "cell_type": "code",
   "execution_count": 54,
   "id": "95134e31-ab2e-4780-a4a7-54523f510012",
   "metadata": {},
   "outputs": [
    {
     "name": "stdout",
     "output_type": "stream",
     "text": [
      "EmployeeCount\n",
      "Over18\n",
      "StandardHours\n"
     ]
    }
   ],
   "source": [
    "df = df.drop(\"EmployeeNumber\", axis=1)\n",
    "\n",
    "for c in df.columns:\n",
    "    column = df[c]\n",
    "    if (column.nunique() <= 1):\n",
    "        print(c) \n",
    "        df = df.drop(c, axis=1)"
   ]
  },
  {
   "cell_type": "markdown",
   "id": "6d0f0928-aebd-4148-9bdc-d84fc45ce109",
   "metadata": {},
   "source": [
    "#### Separando nosso dados por variáveis categóricas ordenadas e não ordernadas"
   ]
  },
  {
   "cell_type": "code",
   "execution_count": 55,
   "id": "b20033ae-4033-454b-9bf4-2eef4f2663bf",
   "metadata": {},
   "outputs": [],
   "source": [
    "\n",
    "# Colunas que são categóricas e não ordenadas\n",
    "columns_categorical_not_ordered = [\n",
    "    'BusinessTravel',\n",
    "    'Department',\n",
    "    'EducationField',\n",
    "    'Gender',\n",
    "    'JobRole',\n",
    "    'MaritalStatus',\n",
    "    'OverTime'\n",
    "]\n",
    "\n",
    "# Colunas que são categóricas e ordernadas\n",
    "columns_categorical_ordered = [\n",
    "    'Education',\n",
    "    'EnvironmentSatisfaction',\n",
    "    'JobSatisfaction',\n",
    "    'JobInvolvement',\n",
    "    'JobLevel',\n",
    "    'PerformanceRating',\n",
    "    'RelationshipSatisfaction',\n",
    "    'StockOptionLevel',\n",
    "    'WorkLifeBalance',\n",
    "    'JobInvolvement'\n",
    "]\n",
    "\n",
    "target_column = ['Attrition']\n",
    "\n",
    "\n",
    "numeric_columns = [\n",
    "    column\n",
    "    for column in df.columns\n",
    "    if column not in (columns_categorical_ordered + columns_categorical_not_ordered + target_column)\n",
    "]"
   ]
  },
  {
   "cell_type": "markdown",
   "id": "5de05925-3062-4471-99e1-01ffed4f6495",
   "metadata": {},
   "source": [
    "numeric_columns"
   ]
  },
  {
   "cell_type": "markdown",
   "id": "06d2f8d9-3f99-4845-8b54-68fed8e89184",
   "metadata": {},
   "source": [
    "#### Visualizando a variação das nossas colunas categóricas"
   ]
  },
  {
   "cell_type": "code",
   "execution_count": 56,
   "id": "973502c7-d89a-44ce-99ef-d11b19d9d2ed",
   "metadata": {},
   "outputs": [
    {
     "name": "stdout",
     "output_type": "stream",
     "text": [
      "BusinessTravel: ['Travel_Rarely' 'Travel_Frequently' 'Non-Travel']\n",
      "Department: ['Sales' 'Research & Development' 'Human Resources']\n",
      "EducationField: ['Life Sciences' 'Other' 'Medical' 'Marketing' 'Technical Degree'\n",
      " 'Human Resources']\n",
      "Gender: ['Female' 'Male']\n",
      "JobRole: ['Sales Executive' 'Research Scientist' 'Laboratory Technician'\n",
      " 'Manufacturing Director' 'Healthcare Representative' 'Manager'\n",
      " 'Sales Representative' 'Research Director' 'Human Resources']\n",
      "MaritalStatus: ['Single' 'Married' 'Divorced']\n",
      "OverTime: ['Yes' 'No']\n",
      "Education: [2 1 4 3 5]\n",
      "EnvironmentSatisfaction: [2 3 4 1]\n",
      "JobSatisfaction: [4 2 3 1]\n",
      "JobInvolvement: [3 2 4 1]\n",
      "JobLevel: [2 1 3 4 5]\n",
      "PerformanceRating: [3 4]\n",
      "RelationshipSatisfaction: [1 4 2 3]\n",
      "StockOptionLevel: [0 1 3 2]\n",
      "WorkLifeBalance: [1 3 2 4]\n",
      "JobInvolvement: [3 2 4 1]\n"
     ]
    }
   ],
   "source": [
    "for column in (columns_categorical_not_ordered + columns_categorical_ordered ):\n",
    "    print(f\"{column}: {df[column].unique()}\")"
   ]
  },
  {
   "cell_type": "markdown",
   "id": "3df7c42f-823d-461f-b503-20e052860614",
   "metadata": {},
   "source": [
    "### Convertendo nossas colunas para o tipo \"category\" do pandas:"
   ]
  },
  {
   "cell_type": "markdown",
   "id": "ebb94298-de83-424d-9d5c-f8a4e87c7f66",
   "metadata": {},
   "source": [
    "Ao converter colunas para o tipo category do pandas ganhamos beneficios, dentre eles performance, utilizando o `.info()` podemos ver que nosso DataFrame possui 356 kb"
   ]
  },
  {
   "cell_type": "code",
   "execution_count": 57,
   "id": "5aa6c4c4-b53a-4ace-bae0-b2ecb25acf5c",
   "metadata": {},
   "outputs": [
    {
     "name": "stdout",
     "output_type": "stream",
     "text": [
      "<class 'pandas.core.frame.DataFrame'>\n",
      "RangeIndex: 1470 entries, 0 to 1469\n",
      "Data columns (total 31 columns):\n",
      " #   Column                    Non-Null Count  Dtype \n",
      "---  ------                    --------------  ----- \n",
      " 0   Age                       1470 non-null   int64 \n",
      " 1   Attrition                 1470 non-null   object\n",
      " 2   BusinessTravel            1470 non-null   object\n",
      " 3   DailyRate                 1470 non-null   int64 \n",
      " 4   Department                1470 non-null   object\n",
      " 5   DistanceFromHome          1470 non-null   int64 \n",
      " 6   Education                 1470 non-null   int64 \n",
      " 7   EducationField            1470 non-null   object\n",
      " 8   EnvironmentSatisfaction   1470 non-null   int64 \n",
      " 9   Gender                    1470 non-null   object\n",
      " 10  HourlyRate                1470 non-null   int64 \n",
      " 11  JobInvolvement            1470 non-null   int64 \n",
      " 12  JobLevel                  1470 non-null   int64 \n",
      " 13  JobRole                   1470 non-null   object\n",
      " 14  JobSatisfaction           1470 non-null   int64 \n",
      " 15  MaritalStatus             1470 non-null   object\n",
      " 16  MonthlyIncome             1470 non-null   int64 \n",
      " 17  MonthlyRate               1470 non-null   int64 \n",
      " 18  NumCompaniesWorked        1470 non-null   int64 \n",
      " 19  OverTime                  1470 non-null   object\n",
      " 20  PercentSalaryHike         1470 non-null   int64 \n",
      " 21  PerformanceRating         1470 non-null   int64 \n",
      " 22  RelationshipSatisfaction  1470 non-null   int64 \n",
      " 23  StockOptionLevel          1470 non-null   int64 \n",
      " 24  TotalWorkingYears         1470 non-null   int64 \n",
      " 25  TrainingTimesLastYear     1470 non-null   int64 \n",
      " 26  WorkLifeBalance           1470 non-null   int64 \n",
      " 27  YearsAtCompany            1470 non-null   int64 \n",
      " 28  YearsInCurrentRole        1470 non-null   int64 \n",
      " 29  YearsSinceLastPromotion   1470 non-null   int64 \n",
      " 30  YearsWithCurrManager      1470 non-null   int64 \n",
      "dtypes: int64(23), object(8)\n",
      "memory usage: 356.1+ KB\n"
     ]
    }
   ],
   "source": [
    "df.info()"
   ]
  },
  {
   "cell_type": "code",
   "execution_count": 59,
   "id": "a3e2eca7-b840-4296-bd28-6d39919a8095",
   "metadata": {},
   "outputs": [],
   "source": [
    "# Convertendo nossas colunas não ordernadas para o tipo category\n",
    "\n",
    "for column in columns_categorical_not_ordered:\n",
    "    df[column] = df[column].astype(\"category\")"
   ]
  },
  {
   "cell_type": "code",
   "execution_count": 60,
   "id": "25761bd4-ee0f-4188-9053-09a4a24cf0e4",
   "metadata": {},
   "outputs": [
    {
     "name": "stdout",
     "output_type": "stream",
     "text": [
      "<class 'pandas.core.frame.DataFrame'>\n",
      "RangeIndex: 1470 entries, 0 to 1469\n",
      "Data columns (total 31 columns):\n",
      " #   Column                    Non-Null Count  Dtype   \n",
      "---  ------                    --------------  -----   \n",
      " 0   Age                       1470 non-null   int64   \n",
      " 1   Attrition                 1470 non-null   object  \n",
      " 2   BusinessTravel            1470 non-null   category\n",
      " 3   DailyRate                 1470 non-null   int64   \n",
      " 4   Department                1470 non-null   category\n",
      " 5   DistanceFromHome          1470 non-null   int64   \n",
      " 6   Education                 1470 non-null   int64   \n",
      " 7   EducationField            1470 non-null   category\n",
      " 8   EnvironmentSatisfaction   1470 non-null   int64   \n",
      " 9   Gender                    1470 non-null   category\n",
      " 10  HourlyRate                1470 non-null   int64   \n",
      " 11  JobInvolvement            1470 non-null   int64   \n",
      " 12  JobLevel                  1470 non-null   int64   \n",
      " 13  JobRole                   1470 non-null   category\n",
      " 14  JobSatisfaction           1470 non-null   int64   \n",
      " 15  MaritalStatus             1470 non-null   category\n",
      " 16  MonthlyIncome             1470 non-null   int64   \n",
      " 17  MonthlyRate               1470 non-null   int64   \n",
      " 18  NumCompaniesWorked        1470 non-null   int64   \n",
      " 19  OverTime                  1470 non-null   category\n",
      " 20  PercentSalaryHike         1470 non-null   int64   \n",
      " 21  PerformanceRating         1470 non-null   int64   \n",
      " 22  RelationshipSatisfaction  1470 non-null   int64   \n",
      " 23  StockOptionLevel          1470 non-null   int64   \n",
      " 24  TotalWorkingYears         1470 non-null   int64   \n",
      " 25  TrainingTimesLastYear     1470 non-null   int64   \n",
      " 26  WorkLifeBalance           1470 non-null   int64   \n",
      " 27  YearsAtCompany            1470 non-null   int64   \n",
      " 28  YearsInCurrentRole        1470 non-null   int64   \n",
      " 29  YearsSinceLastPromotion   1470 non-null   int64   \n",
      " 30  YearsWithCurrManager      1470 non-null   int64   \n",
      "dtypes: category(7), int64(23), object(1)\n",
      "memory usage: 287.0+ KB\n"
     ]
    }
   ],
   "source": [
    "df.info()"
   ]
  },
  {
   "cell_type": "markdown",
   "id": "87ffc9c3-b84f-41cf-bb16-921fbdac2f1b",
   "metadata": {},
   "source": [
    "Nosso DataFrame passou a ter 287 kb, uma economia de 69 kb, em Datasets de maior escalo isso é evidentemente um ganho ainda mais significativo."
   ]
  },
  {
   "cell_type": "markdown",
   "id": "a281f924-2608-465d-89a6-1f43b036e232",
   "metadata": {},
   "source": [
    "Além da economia do armazenamento o processo de conversão para o tipo \"category\" muda outras coisas na nossa base, pois uma vez que mudamos a tipagem estamos instanciando uma outra classe do pandas e que nos dará novos atributos e métodos que não tinhamos antes no tipo \"object\":"
   ]
  },
  {
   "cell_type": "code",
   "execution_count": 77,
   "id": "d986aa6b-cb2b-438d-9c53-cbcf127074ec",
   "metadata": {},
   "outputs": [
    {
     "name": "stdout",
     "output_type": "stream",
     "text": [
      "BusinessTravel\n",
      "BusinessTravel.cat.categories: Index(['Non-Travel', 'Travel_Frequently', 'Travel_Rarely'], dtype='object')\n",
      "BusinessTravel.cat.codes: [2 1 0]\n",
      "\n",
      "Department\n",
      "Department.cat.categories: Index(['Human Resources', 'Research & Development', 'Sales'], dtype='object')\n",
      "Department.cat.codes: [2 1 0]\n",
      "\n",
      "EducationField\n",
      "EducationField.cat.categories: Index(['Human Resources', 'Life Sciences', 'Marketing', 'Medical', 'Other',\n",
      "       'Technical Degree'],\n",
      "      dtype='object')\n",
      "EducationField.cat.codes: [1 4 3 2 5 0]\n",
      "\n",
      "Gender\n",
      "Gender.cat.categories: Index(['Female', 'Male'], dtype='object')\n",
      "Gender.cat.codes: [0 1]\n",
      "\n",
      "JobRole\n",
      "JobRole.cat.categories: Index(['Healthcare Representative', 'Human Resources', 'Laboratory Technician',\n",
      "       'Manager', 'Manufacturing Director', 'Research Director',\n",
      "       'Research Scientist', 'Sales Executive', 'Sales Representative'],\n",
      "      dtype='object')\n",
      "JobRole.cat.codes: [7 6 2 4 0 3 8 5 1]\n",
      "\n",
      "MaritalStatus\n",
      "MaritalStatus.cat.categories: Index(['Divorced', 'Married', 'Single'], dtype='object')\n",
      "MaritalStatus.cat.codes: [2 1 0]\n",
      "\n",
      "OverTime\n",
      "OverTime.cat.categories: Index(['No', 'Yes'], dtype='object')\n",
      "OverTime.cat.codes: [1 0]\n",
      "\n"
     ]
    }
   ],
   "source": [
    "# Percorrendo nossas colunas do tipo \"category\":\n",
    "\n",
    "for column in df.select_dtypes(include=\"category\"):\n",
    "    print(column)\n",
    "    print(f\"{column}.cat.categories: {df[column].cat.categories}\")\n",
    "    print(f\"{column}.cat.codes: {df[column].cat.codes.unique()}\")\n",
    "    print()\n",
    "\n",
    "\n",
    "# A propriedade categories vai nos retornar as diferentes categorias vinculadas\n",
    "#a uma coluna"
   ]
  },
  {
   "cell_type": "markdown",
   "id": "43c0f09b-7aca-46af-86cf-ecde8423b4d5",
   "metadata": {},
   "source": [
    "### Entendendo o motivo do pandas conseguir economia de memória com o tipo \"category\""
   ]
  },
  {
   "cell_type": "code",
   "execution_count": 70,
   "id": "102f5117-4b14-4931-a5f3-7fdccdad1151",
   "metadata": {},
   "outputs": [
    {
     "data": {
      "text/plain": [
       "0    Yes\n",
       "1     No\n",
       "2    Yes\n",
       "3    Yes\n",
       "4     No\n",
       "Name: OverTime, dtype: category\n",
       "Categories (2, object): ['No', 'Yes']"
      ]
     },
     "execution_count": 70,
     "metadata": {},
     "output_type": "execute_result"
    }
   ],
   "source": [
    "# Ao listarmos os valores da coluna \"OverTime\" veremos um texto com \"Yes\" ou \"No\"\n",
    "\n",
    "df[\"OverTime\"].head()"
   ]
  },
  {
   "cell_type": "code",
   "execution_count": 72,
   "id": "a96fdb8c-c937-425b-98da-2c440b363ce5",
   "metadata": {},
   "outputs": [
    {
     "data": {
      "text/plain": [
       "0    1\n",
       "1    0\n",
       "2    1\n",
       "3    1\n",
       "4    0\n",
       "dtype: int8"
      ]
     },
     "execution_count": 72,
     "metadata": {},
     "output_type": "execute_result"
    }
   ],
   "source": [
    "# Mas quando visualizamos os valores através da propriedade \"codes\" vamos ver\n",
    "#que \"Yes\" e \"No\" é convertido para 0 e 1. O tipo int8 ocupa menos espaço de armazenamento\n",
    "\n",
    "df[\"OverTime\"].cat.codes.head()"
   ]
  }
 ],
 "metadata": {
  "kernelspec": {
   "display_name": "Python 3 (ipykernel)",
   "language": "python",
   "name": "python3"
  },
  "language_info": {
   "codemirror_mode": {
    "name": "ipython",
    "version": 3
   },
   "file_extension": ".py",
   "mimetype": "text/x-python",
   "name": "python",
   "nbconvert_exporter": "python",
   "pygments_lexer": "ipython3",
   "version": "3.11.7"
  }
 },
 "nbformat": 4,
 "nbformat_minor": 5
}
