{
 "cells": [
  {
   "cell_type": "markdown",
   "id": "00c57d79-7ac6-4d86-8ce8-589e0722d35f",
   "metadata": {},
   "source": [
    "### Boxplots\n",
    "\n",
    "A compreensão de Boxplots requer uma rápida revisão sobre Percentil e Quartil.\n",
    "\n",
    "#### Percentil\n",
    "\n",
    "Percentil é uma medida de posição, ele é útil para entendermos como nossos dados estão distribuídos. Utilizando um exemplo muito comum de blogs de cientistas de dados vamos criar um exemplo com 20 notas de uma prova entre 0 e 100:\n",
    "\n",
    "~~~python\n",
    "    [14, 20, 24, 29, 34, 39, 44, 49, 54, 59, 64, 69, 74, 79, 84, 89, 92, 94, 96, 100]\n",
    "~~~\n",
    "\n",
    "Agora desejo obter um valor onde 25% dos dados são menores ou igual a ele, para isso utilizamos a seguinte formula:\n",
    "\n",
    "    (Percentual x Tamanho dos Dados) / 100\n",
    "\n",
    "Aplicando com os dados do exemplo acima: \n",
    "\n",
    "    (25 * 20) / 100 =  5\n",
    "\n",
    "A posição 5 no nosso intervalo de dados é 34, ou seja, 25% das notas são iguais ou menores a 34.\n",
    "Em termos técnicos podemos dizer que o percentil 25 dos nosso dados é 34.\n",
    "\n",
    "\n",
    "#### Quartil\n",
    "\n",
    "Agora podemos falar sobre Quartis, na prática são o Percentil 25%, 50% e 75% técnicamente chamados de Q1, Q2 e Q3. \n",
    "\n",
    "Importante lembrar que:\n",
    "\n",
    "    O Q2 (segundo quartil) - O Percentil 50% e a Mediana serão sempre o mesmo valor."
   ]
  },
  {
   "cell_type": "markdown",
   "id": "4e612833-2e17-47e2-80c1-d9372c42162f",
   "metadata": {
    "jp-MarkdownHeadingCollapsed": true
   },
   "source": [
    "### Preparativos do Dataset (remoção de colunas sem variação de valores e categorizando as colunas ordenadas e não ordenadas)"
   ]
  },
  {
   "cell_type": "code",
   "execution_count": 4,
   "id": "1fb486d5-d18e-48a7-bbdc-b42684b8f1ac",
   "metadata": {},
   "outputs": [
    {
     "name": "stdout",
     "output_type": "stream",
     "text": [
      "Removendo coluna EmployeeCount\n",
      "Removendo coluna Over18\n",
      "Removendo coluna StandardHours\n"
     ]
    }
   ],
   "source": [
    "import pandas as pd\n",
    "\n",
    "BASE = \"../datasets/HR-Employee-Attrition.csv\"\n",
    "\n",
    "df = pd.read_csv(BASE)\n",
    "\n",
    "\n",
    "# Limpando a base de colunas com valores não variam e removendo a\n",
    "# coluna de identificação (EmployeeNumber)\n",
    "\n",
    "df = df.drop(\"EmployeeNumber\", axis=1)\n",
    "\n",
    "for c in df.columns:\n",
    "    column = df[c]\n",
    "    if (column.nunique() <= 1):\n",
    "        print(f\"Removendo coluna {c}\") \n",
    "        df = df.drop(c, axis=1)\n",
    "\n",
    "\n",
    "# Separando nossas colunas por variáveis categóricas ordenadas e \n",
    "# não ordernadas\n",
    "\n",
    "\n",
    "# Colunas que são categóricas e não ordenadas\n",
    "columns_categorical_not_ordered = [\n",
    "    'BusinessTravel',\n",
    "    'Department',\n",
    "    'EducationField',\n",
    "    'Gender',\n",
    "    'JobRole',\n",
    "    'MaritalStatus',\n",
    "    'OverTime'\n",
    "]\n",
    "\n",
    "# Colunas que são categóricas e ordernadas\n",
    "columns_categorical_ordered = [\n",
    "    'Education',\n",
    "    'EnvironmentSatisfaction',\n",
    "    'JobSatisfaction',\n",
    "    'JobInvolvement',\n",
    "    'JobLevel',\n",
    "    'PerformanceRating',\n",
    "    'RelationshipSatisfaction',\n",
    "    'StockOptionLevel',\n",
    "    'WorkLifeBalance',\n",
    "    'JobInvolvement'\n",
    "]\n",
    "\n",
    "target_column = ['Attrition']\n",
    "\n",
    "\n",
    "numeric_columns = [\n",
    "    column\n",
    "    for column in df.columns\n",
    "    if column not in (columns_categorical_ordered + columns_categorical_not_ordered + target_column)\n",
    "]\n",
    "\n",
    "\n",
    "# Convertendo nossas colunas não ordernadas para o tipo category\n",
    "### Preparativos do Dataset (remoção de colunas sem variação de valores e categorizando as colunas ordenadas e não ordenadas)\n",
    "for column in columns_categorical_not_ordered:\n",
    "    df[column] = df[column].astype(\"category\")"
   ]
  },
  {
   "cell_type": "markdown",
   "id": "c6a85813-76bb-41a2-aa78-5e9f3092fc6e",
   "metadata": {},
   "source": [
    "### Visualizando boxplot com base na coluna \"DistanceFromHome\":\n"
   ]
  },
  {
   "cell_type": "markdown",
   "id": "452cf091-79c8-486b-835f-d81d20f71935",
   "metadata": {},
   "source": [
    "Vamos visualizar que o boxplot tem sua exibição com base em 5 valores: \n",
    "\n",
    "    - Mediana (Q2 ou 50º percentil)\n",
    "    - Primeiro Quartil (Q1)\n",
    "    - Terceiro Quartil (Q3)\n",
    "    - Máximo  (Q100 ou 100º percentil)\n",
    "    - Minimo  (Q0 ou 0º percentil)\n",
    "\n",
    "\n",
    "Além destes valores é possível visualizarmos também o IQR (distância entre o Q3 e Q1) "
   ]
  },
  {
   "cell_type": "code",
   "execution_count": 19,
   "id": "03d57e3b-283c-4f29-a958-e0fcfb3f761a",
   "metadata": {},
   "outputs": [
    {
     "data": {
      "image/png": "[encoded data removed]",
      "text/plain": [
       "<Figure size 640x480 with 1 Axes>"
      ]
     },
     "metadata": {},
     "output_type": "display_data"
    }
   ],
   "source": [
    "df.boxplot(column=\"DistanceFromHome\", vert=False, grid=False);"
   ]
  },
  {
   "cell_type": "markdown",
   "id": "b88e942c-1d8e-40d1-9c7a-978fa4f54c2a",
   "metadata": {},
   "source": [
    "#### O que é a Mediana - Q2 - P50 no bloxplot?"
   ]
  },
  {
   "cell_type": "markdown",
   "id": "aecd4a6d-387b-4b84-bc4f-bd739ffe81ee",
   "metadata": {},
   "source": [
    "A linha verde representa mediana, ou seja, 50% dados estão acima ou abaixo dela. \n",
    "\n",
    "Ela é igual a: \n",
    "\n",
    " ~~~python\n",
    "    df[\"DistanceFromHome\"].describe()[\"50%\"] # 7.0\n",
    " ~~~"
   ]
  },
  {
   "cell_type": "markdown",
   "id": "7cf093f6-b390-48b6-bb86-5d153d318e50",
   "metadata": {},
   "source": [
    "#### O que é o Q1 - P25 no bloxplot?"
   ]
  },
  {
   "cell_type": "markdown",
   "id": "e2509d5f-2244-4688-b30a-97c01ac7efe7",
   "metadata": {},
   "source": [
    "A linha vertical a esquerda que fecha a caixa:\n",
    "\n",
    "~~~markdown\n",
    "              ____________\n",
    "             |            |\n",
    " esta   <--- |            | \n",
    "             |____________| \n",
    "~~~\n",
    "\n",
    "\n",
    "\n",
    "Ela é igual a: \n",
    "\n",
    " ~~~python\n",
    "    df[\"DistanceFromHome\"].describe()[\"25%\"] # 14.0\n",
    " ~~~\n"
   ]
  },
  {
   "cell_type": "markdown",
   "id": "c15510e9-849d-4280-b7a6-48bc3d41682f",
   "metadata": {},
   "source": [
    "#### O que é o Q3 - P75 no bloxplot?"
   ]
  },
  {
   "cell_type": "markdown",
   "id": "6c67e237-227a-4980-986c-cedc18c29e63",
   "metadata": {},
   "source": [
    "A linha vertical a direita que fecha a caixa:\n",
    "\n",
    "~~~markdown\n",
    "     ____________\n",
    "    |            |\n",
    "    |            | ---> esta (Se estivéssemos visualizando um boxplot imprimido verticalmente seria a linha do topo)\n",
    "    |____________| \n",
    "~~~\n",
    "\n",
    "\n",
    "\n",
    "Ela é igual a: \n",
    "\n",
    " ~~~python\n",
    "    df[\"DistanceFromHome\"].describe()[\"75%\"] # 14.0\n",
    " ~~~"
   ]
  },
  {
   "cell_type": "markdown",
   "id": "a812146b-2044-4920-9a50-dd463a465e51",
   "metadata": {},
   "source": [
    "#### O que é o Q100 - P100 no bloxplot?"
   ]
  },
  {
   "cell_type": "markdown",
   "id": "eefc72b7-c286-4029-9387-0e0dfcdec460",
   "metadata": {},
   "source": [
    "A linha vertical mais extrema a direita depois da reta horizontal representa o valor máximo dos nossos dados:\n",
    "\n",
    "~~~markdown\n",
    "     ____________\n",
    "    |            |\n",
    "    |            |--------| ---> esta \n",
    "    |____________| \n",
    "~~~\n",
    "\n",
    "Ela é igual a \n",
    "\n",
    "~~~python\n",
    "    df[\"DistanceFromHome\"].describe()[\"max\"] # 29.0\n",
    "~~~"
   ]
  },
  {
   "cell_type": "markdown",
   "id": "03707d2d-5168-457c-87dd-88eaf374d332",
   "metadata": {},
   "source": [
    "#### O que é o Q0- P0 no bloxplot?"
   ]
  },
  {
   "cell_type": "markdown",
   "id": "d0de4292-22c6-45e9-a252-bae17aef5ce9",
   "metadata": {},
   "source": [
    "A linha vertical mais extrema a esquerda antes da reta horizontal representa o valor mínimo dos nossos dados:\n",
    "\n",
    "~~~markdown\n",
    "                    ____________\n",
    "                   |            |\n",
    "esta <--- |--------|            | \n",
    "                   |____________| \n",
    "~~~\n",
    "\n",
    "Ela é igual a \n",
    "\n",
    "~~~python\n",
    "    df[\"DistanceFromHome\"].describe()[\"min\"] # 1.0\n",
    "~~~"
   ]
  },
  {
   "cell_type": "markdown",
   "id": "a8032186-3655-42d3-aab0-f37e14b5509b",
   "metadata": {},
   "source": [
    "#### Visualizando a média no boxplot"
   ]
  },
  {
   "cell_type": "code",
   "execution_count": 35,
   "id": "45f81872-56d0-40e2-9db2-4f38a9185648",
   "metadata": {},
   "outputs": [
    {
     "data": {
      "image/png": "[encoded data removed]",
      "text/plain": [
       "<Figure size 640x480 with 1 Axes>"
      ]
     },
     "metadata": {},
     "output_type": "display_data"
    }
   ],
   "source": [
    "df.boxplot(column=\"DistanceFromHome\", vert=False, grid=False, showmeans=True);"
   ]
  }
 ],
 "metadata": {
  "kernelspec": {
   "display_name": "Python 3 (ipykernel)",
   "language": "python",
   "name": "python3"
  },
  "language_info": {
   "codemirror_mode": {
    "name": "ipython",
    "version": 3
   },
   "file_extension": ".py",
   "mimetype": "text/x-python",
   "name": "python",
   "nbconvert_exporter": "python",
   "pygments_lexer": "ipython3",
   "version": "3.11.7"
  }
 },
 "nbformat": 4,
 "nbformat_minor": 5
}
