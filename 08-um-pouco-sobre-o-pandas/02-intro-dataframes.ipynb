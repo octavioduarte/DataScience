{
 "cells": [
  {
   "cell_type": "code",
   "execution_count": 12,
   "id": "e837b59d-c989-438d-946f-a2dad5d29613",
   "metadata": {},
   "outputs": [],
   "source": [
    "data = {\n",
    "    \"Name\": [\n",
    "        \"Sport Club Corinthians Paulista\",\n",
    "        \"São Paulo Futebol Club\",\n",
    "        \"Santos Futebol Club\",\n",
    "        \"Sociedade Esportiva Palmeiras\"\n",
    "    ],\n",
    "    \"Year\": [1910, 1930, 1902, 1914],\n",
    "    \"Mascot\": [\"Mosqueteiro\", \"Um Velho\", \"Uma Sardinha\", \"A Pepa Pig\"]\n",
    "}"
   ]
  },
  {
   "cell_type": "code",
   "execution_count": 6,
   "id": "0cf841ea-2fd6-48c7-ab3f-dc3c764b609f",
   "metadata": {},
   "outputs": [],
   "source": [
    "import pandas as pd"
   ]
  },
  {
   "cell_type": "markdown",
   "id": "8a3299c6-91d4-494f-99af-3779f5362f8b",
   "metadata": {},
   "source": [
    "## Convertendo um dicionário para um DataFrame:"
   ]
  },
  {
   "cell_type": "code",
   "execution_count": 18,
   "id": "2c0c6dbf-b742-4a7c-97ac-140de459adbc",
   "metadata": {},
   "outputs": [
    {
     "data": {
      "text/html": [
       "<div>\n",
       "<style scoped>\n",
       "    .dataframe tbody tr th:only-of-type {\n",
       "        vertical-align: middle;\n",
       "    }\n",
       "\n",
       "    .dataframe tbody tr th {\n",
       "        vertical-align: top;\n",
       "    }\n",
       "\n",
       "    .dataframe thead th {\n",
       "        text-align: right;\n",
       "    }\n",
       "</style>\n",
       "<table border=\"1\" class=\"dataframe\">\n",
       "  <thead>\n",
       "    <tr style=\"text-align: right;\">\n",
       "      <th></th>\n",
       "      <th>Name</th>\n",
       "      <th>Year</th>\n",
       "      <th>Mascot</th>\n",
       "    </tr>\n",
       "  </thead>\n",
       "  <tbody>\n",
       "    <tr>\n",
       "      <th>0</th>\n",
       "      <td>Sport Club Corinthians Paulista</td>\n",
       "      <td>1910</td>\n",
       "      <td>Mosqueteiro</td>\n",
       "    </tr>\n",
       "    <tr>\n",
       "      <th>1</th>\n",
       "      <td>São Paulo Futebol Club</td>\n",
       "      <td>1930</td>\n",
       "      <td>Um Velho</td>\n",
       "    </tr>\n",
       "    <tr>\n",
       "      <th>2</th>\n",
       "      <td>Santos Futebol Club</td>\n",
       "      <td>1902</td>\n",
       "      <td>Uma Sardinha</td>\n",
       "    </tr>\n",
       "    <tr>\n",
       "      <th>3</th>\n",
       "      <td>Sociedade Esportiva Palmeiras</td>\n",
       "      <td>1914</td>\n",
       "      <td>A Pepa Pig</td>\n",
       "    </tr>\n",
       "  </tbody>\n",
       "</table>\n",
       "</div>"
      ],
      "text/plain": [
       "                              Name  Year        Mascot\n",
       "0  Sport Club Corinthians Paulista  1910   Mosqueteiro\n",
       "1           São Paulo Futebol Club  1930      Um Velho\n",
       "2              Santos Futebol Club  1902  Uma Sardinha\n",
       "3    Sociedade Esportiva Palmeiras  1914    A Pepa Pig"
      ]
     },
     "execution_count": 18,
     "metadata": {},
     "output_type": "execute_result"
    }
   ],
   "source": [
    "df_sp_teams = pd.DataFrame(data)\n",
    "df_sp_teams"
   ]
  },
  {
   "cell_type": "code",
   "execution_count": 19,
   "id": "c6cf7b6b-d96f-43ba-ab50-0bc29e4f7b54",
   "metadata": {},
   "outputs": [
    {
     "name": "stdout",
     "output_type": "stream",
     "text": [
      "<class 'pandas.core.frame.DataFrame'>\n"
     ]
    }
   ],
   "source": [
    "print(type(df_sp_teams))"
   ]
  },
  {
   "cell_type": "markdown",
   "id": "2132e5d2-878e-4903-85f2-1ec1522711c1",
   "metadata": {},
   "source": [
    "## Acessando uma coluna em especifica do nosso DataFrame (Series):"
   ]
  },
  {
   "cell_type": "code",
   "execution_count": 8,
   "id": "8773b109-027e-43b4-9eab-a7cc0f1cf251",
   "metadata": {},
   "outputs": [
    {
     "data": {
      "text/plain": [
       "0    Sport Club Corinthians Paulista\n",
       "1             São Paulo Futebol Club\n",
       "2                Santos Futebol Club\n",
       "3      Sociedade Esportiva Palmeiras\n",
       "Name: Name, dtype: object"
      ]
     },
     "execution_count": 8,
     "metadata": {},
     "output_type": "execute_result"
    }
   ],
   "source": [
    "df_sp_teams['Name']"
   ]
  },
  {
   "cell_type": "markdown",
   "id": "9440e34a-c7c8-4fa0-b596-0352f662d7a6",
   "metadata": {},
   "source": [
    "### A tipagem também muda:"
   ]
  },
  {
   "cell_type": "code",
   "execution_count": 11,
   "id": "0d2ab6af-984b-4126-9373-60cc87061c72",
   "metadata": {},
   "outputs": [
    {
     "name": "stdout",
     "output_type": "stream",
     "text": [
      "<class 'pandas.core.series.Series'>\n"
     ]
    }
   ],
   "source": [
    "print(type(df_sp_teams['Name']))\n"
   ]
  },
  {
   "cell_type": "markdown",
   "id": "650b2c3b-53b1-40e2-bee0-a545184815c8",
   "metadata": {},
   "source": [
    "## Acessando multiplas colunas do nosso DataFrame:"
   ]
  },
  {
   "cell_type": "code",
   "execution_count": 17,
   "id": "3dee1826-b684-4f19-8660-3c4c09e705fc",
   "metadata": {},
   "outputs": [
    {
     "data": {
      "text/html": [
       "<div>\n",
       "<style scoped>\n",
       "    .dataframe tbody tr th:only-of-type {\n",
       "        vertical-align: middle;\n",
       "    }\n",
       "\n",
       "    .dataframe tbody tr th {\n",
       "        vertical-align: top;\n",
       "    }\n",
       "\n",
       "    .dataframe thead th {\n",
       "        text-align: right;\n",
       "    }\n",
       "</style>\n",
       "<table border=\"1\" class=\"dataframe\">\n",
       "  <thead>\n",
       "    <tr style=\"text-align: right;\">\n",
       "      <th></th>\n",
       "      <th>Name</th>\n",
       "      <th>Mascot</th>\n",
       "    </tr>\n",
       "  </thead>\n",
       "  <tbody>\n",
       "    <tr>\n",
       "      <th>0</th>\n",
       "      <td>Sport Club Corinthians Paulista</td>\n",
       "      <td>Mosqueteiro</td>\n",
       "    </tr>\n",
       "    <tr>\n",
       "      <th>1</th>\n",
       "      <td>São Paulo Futebol Club</td>\n",
       "      <td>Um Velho</td>\n",
       "    </tr>\n",
       "    <tr>\n",
       "      <th>2</th>\n",
       "      <td>Santos Futebol Club</td>\n",
       "      <td>Uma Sardinha</td>\n",
       "    </tr>\n",
       "    <tr>\n",
       "      <th>3</th>\n",
       "      <td>Sociedade Esportiva Palmeiras</td>\n",
       "      <td>A Pepa Pig</td>\n",
       "    </tr>\n",
       "  </tbody>\n",
       "</table>\n",
       "</div>"
      ],
      "text/plain": [
       "                              Name        Mascot\n",
       "0  Sport Club Corinthians Paulista   Mosqueteiro\n",
       "1           São Paulo Futebol Club      Um Velho\n",
       "2              Santos Futebol Club  Uma Sardinha\n",
       "3    Sociedade Esportiva Palmeiras    A Pepa Pig"
      ]
     },
     "execution_count": 17,
     "metadata": {},
     "output_type": "execute_result"
    }
   ],
   "source": [
    "# Uma vez que eu tenho mais de uma coluna é um DataFrame. Series é quando temos apenas uma coluna\n",
    "df_sp_teams[[\"Name\", \"Mascot\"]]"
   ]
  },
  {
   "cell_type": "markdown",
   "id": "8926dda4-c16a-4933-bee4-475ed25a756e",
   "metadata": {},
   "source": [
    "## Vendo detalhes do nosso DataFrame:"
   ]
  },
  {
   "cell_type": "code",
   "execution_count": 20,
   "id": "7bd135e1-8420-4f5e-9135-16f3a95e2fdb",
   "metadata": {},
   "outputs": [
    {
     "name": "stdout",
     "output_type": "stream",
     "text": [
      "<class 'pandas.core.frame.DataFrame'>\n",
      "RangeIndex: 4 entries, 0 to 3\n",
      "Data columns (total 3 columns):\n",
      " #   Column  Non-Null Count  Dtype \n",
      "---  ------  --------------  ----- \n",
      " 0   Name    4 non-null      object\n",
      " 1   Year    4 non-null      int64 \n",
      " 2   Mascot  4 non-null      object\n",
      "dtypes: int64(1), object(2)\n",
      "memory usage: 228.0+ bytes\n"
     ]
    }
   ],
   "source": [
    "df_sp_teams.info()"
   ]
  },
  {
   "cell_type": "markdown",
   "id": "dc43bde3-1115-4fb6-8df1-3ad22f651fb5",
   "metadata": {},
   "source": [
    "## O describe:"
   ]
  },
  {
   "cell_type": "code",
   "execution_count": 24,
   "id": "e9f26b8a-9bb5-45cc-a581-7968f3c16705",
   "metadata": {},
   "outputs": [
    {
     "data": {
      "text/html": [
       "<div>\n",
       "<style scoped>\n",
       "    .dataframe tbody tr th:only-of-type {\n",
       "        vertical-align: middle;\n",
       "    }\n",
       "\n",
       "    .dataframe tbody tr th {\n",
       "        vertical-align: top;\n",
       "    }\n",
       "\n",
       "    .dataframe thead th {\n",
       "        text-align: right;\n",
       "    }\n",
       "</style>\n",
       "<table border=\"1\" class=\"dataframe\">\n",
       "  <thead>\n",
       "    <tr style=\"text-align: right;\">\n",
       "      <th></th>\n",
       "      <th>Year</th>\n",
       "    </tr>\n",
       "  </thead>\n",
       "  <tbody>\n",
       "    <tr>\n",
       "      <th>count</th>\n",
       "      <td>4.000000</td>\n",
       "    </tr>\n",
       "    <tr>\n",
       "      <th>mean</th>\n",
       "      <td>1914.000000</td>\n",
       "    </tr>\n",
       "    <tr>\n",
       "      <th>std</th>\n",
       "      <td>11.775681</td>\n",
       "    </tr>\n",
       "    <tr>\n",
       "      <th>min</th>\n",
       "      <td>1902.000000</td>\n",
       "    </tr>\n",
       "    <tr>\n",
       "      <th>25%</th>\n",
       "      <td>1908.000000</td>\n",
       "    </tr>\n",
       "    <tr>\n",
       "      <th>50%</th>\n",
       "      <td>1912.000000</td>\n",
       "    </tr>\n",
       "    <tr>\n",
       "      <th>75%</th>\n",
       "      <td>1918.000000</td>\n",
       "    </tr>\n",
       "    <tr>\n",
       "      <th>max</th>\n",
       "      <td>1930.000000</td>\n",
       "    </tr>\n",
       "  </tbody>\n",
       "</table>\n",
       "</div>"
      ],
      "text/plain": [
       "              Year\n",
       "count     4.000000\n",
       "mean   1914.000000\n",
       "std      11.775681\n",
       "min    1902.000000\n",
       "25%    1908.000000\n",
       "50%    1912.000000\n",
       "75%    1918.000000\n",
       "max    1930.000000"
      ]
     },
     "execution_count": 24,
     "metadata": {},
     "output_type": "execute_result"
    }
   ],
   "source": [
    "df_sp_teams.describe()\n",
    "\n",
    "# O .describe() descreve dados sobre as colunhas numéricas do nosso DataFrame"
   ]
  },
  {
   "cell_type": "code",
   "execution_count": 23,
   "id": "8f3742a9-e22a-4b93-83a4-411535401d3f",
   "metadata": {},
   "outputs": [
    {
     "data": {
      "text/html": [
       "<div>\n",
       "<style scoped>\n",
       "    .dataframe tbody tr th:only-of-type {\n",
       "        vertical-align: middle;\n",
       "    }\n",
       "\n",
       "    .dataframe tbody tr th {\n",
       "        vertical-align: top;\n",
       "    }\n",
       "\n",
       "    .dataframe thead th {\n",
       "        text-align: right;\n",
       "    }\n",
       "</style>\n",
       "<table border=\"1\" class=\"dataframe\">\n",
       "  <thead>\n",
       "    <tr style=\"text-align: right;\">\n",
       "      <th></th>\n",
       "      <th>Name</th>\n",
       "      <th>Mascot</th>\n",
       "    </tr>\n",
       "  </thead>\n",
       "  <tbody>\n",
       "    <tr>\n",
       "      <th>count</th>\n",
       "      <td>4</td>\n",
       "      <td>4</td>\n",
       "    </tr>\n",
       "    <tr>\n",
       "      <th>unique</th>\n",
       "      <td>4</td>\n",
       "      <td>4</td>\n",
       "    </tr>\n",
       "    <tr>\n",
       "      <th>top</th>\n",
       "      <td>Sport Club Corinthians Paulista</td>\n",
       "      <td>Mosqueteiro</td>\n",
       "    </tr>\n",
       "    <tr>\n",
       "      <th>freq</th>\n",
       "      <td>1</td>\n",
       "      <td>1</td>\n",
       "    </tr>\n",
       "  </tbody>\n",
       "</table>\n",
       "</div>"
      ],
      "text/plain": [
       "                                   Name       Mascot\n",
       "count                                 4            4\n",
       "unique                                4            4\n",
       "top     Sport Club Corinthians Paulista  Mosqueteiro\n",
       "freq                                  1            1"
      ]
     },
     "execution_count": 23,
     "metadata": {},
     "output_type": "execute_result"
    }
   ],
   "source": [
    "# Para ver dados sobre as colunas não numéricas, podemos utilizar:\n",
    "\n",
    "df_sp_teams.describe(exclude=\"number\")"
   ]
  }
 ],
 "metadata": {
  "kernelspec": {
   "display_name": "Python 3 (ipykernel)",
   "language": "python",
   "name": "python3"
  },
  "language_info": {
   "codemirror_mode": {
    "name": "ipython",
    "version": 3
   },
   "file_extension": ".py",
   "mimetype": "text/x-python",
   "name": "python",
   "nbconvert_exporter": "python",
   "pygments_lexer": "ipython3",
   "version": "3.11.7"
  }
 },
 "nbformat": 4,
 "nbformat_minor": 5
}
