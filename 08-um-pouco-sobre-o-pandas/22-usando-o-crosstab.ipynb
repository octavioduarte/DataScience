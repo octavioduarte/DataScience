{
 "cells": [
  {
   "cell_type": "markdown",
   "id": "2f71da92-33a9-4731-9cb8-3c045e93f65e",
   "metadata": {},
   "source": [
    "O crosstab é uma função do Pandas muito útil para criar tabelas de contingência, que são tabelas que resumem a relação entre duas ou mais variáveis. Em resumo o crosstab facilita enxergarmos a quantidade de vezes em que a combinação de valores de diferentes variáveis ocorrem em nosso Dataset. Usando o Dataset da IBM como exemplo, com o crosstab é possível identificarmos de forma simples a quantidade de desligamentos de profissionais por área de atuação."
   ]
  },
  {
   "cell_type": "markdown",
   "id": "ebf264e2-9db9-4b72-9883-c6cee5878f75",
   "metadata": {},
   "source": [
    "### Preparativos do Dataset (remoção de colunas sem variação de valores e categorizando as colunas ordenadas e não ordenadas)"
   ]
  },
  {
   "cell_type": "code",
   "execution_count": 2,
   "id": "b9763112-9bc3-434e-80eb-f1c41de368a7",
   "metadata": {},
   "outputs": [
    {
     "name": "stdout",
     "output_type": "stream",
     "text": [
      "EmployeeCount\n",
      "Over18\n",
      "StandardHours\n"
     ]
    }
   ],
   "source": [
    "import pandas as pd\n",
    "\n",
    "BASE = \"../datasets/HR-Employee-Attrition.csv\"\n",
    "\n",
    "df = pd.read_csv(BASE)\n",
    "\n",
    "\n",
    "# Limpando a base de colunas com valores não variam e removendo a\n",
    "# coluna de identificação (EmployeeNumber)\n",
    "\n",
    "df = df.drop(\"EmployeeNumber\", axis=1)\n",
    "\n",
    "for c in df.columns:\n",
    "    column = df[c]\n",
    "    if (column.nunique() <= 1):\n",
    "        print(c) \n",
    "        df = df.drop(c, axis=1)\n",
    "\n",
    "\n",
    "# Separando nossas colunas por variáveis categóricas ordenadas e \n",
    "# não ordernadas\n",
    "\n",
    "\n",
    "# Colunas que são categóricas e não ordenadas\n",
    "columns_categorical_not_ordered = [\n",
    "    'BusinessTravel',\n",
    "    'Department',\n",
    "    'EducationField',\n",
    "    'Gender',\n",
    "    'JobRole',\n",
    "    'MaritalStatus',\n",
    "    'OverTime'\n",
    "]\n",
    "\n",
    "# Colunas que são categóricas e ordernadas\n",
    "columns_categorical_ordered = [\n",
    "    'Education',\n",
    "    'EnvironmentSatisfaction',\n",
    "    'JobSatisfaction',\n",
    "    'JobInvolvement',\n",
    "    'JobLevel',\n",
    "    'PerformanceRating',\n",
    "    'RelationshipSatisfaction',\n",
    "    'StockOptionLevel',\n",
    "    'WorkLifeBalance',\n",
    "    'JobInvolvement'\n",
    "]\n",
    "\n",
    "target_column = ['Attrition']\n",
    "\n",
    "\n",
    "numeric_columns = [\n",
    "    column\n",
    "    for column in df.columns\n",
    "    if column not in (columns_categorical_ordered + columns_categorical_not_ordered + target_column)\n",
    "]\n",
    "\n",
    "\n",
    "# Convertendo nossas colunas não ordernadas para o tipo category\n",
    "\n",
    "for column in columns_categorical_not_ordered:\n",
    "    df[column] = df[column].astype(\"category\")"
   ]
  },
  {
   "cell_type": "code",
   "execution_count": 8,
   "id": "75efccda-6662-4334-8697-995fb5609d23",
   "metadata": {},
   "outputs": [
    {
     "data": {
      "text/html": [
       "<div>\n",
       "<style scoped>\n",
       "    .dataframe tbody tr th:only-of-type {\n",
       "        vertical-align: middle;\n",
       "    }\n",
       "\n",
       "    .dataframe tbody tr th {\n",
       "        vertical-align: top;\n",
       "    }\n",
       "\n",
       "    .dataframe thead th {\n",
       "        text-align: right;\n",
       "    }\n",
       "</style>\n",
       "<table border=\"1\" class=\"dataframe\">\n",
       "  <thead>\n",
       "    <tr style=\"text-align: right;\">\n",
       "      <th>Attrition</th>\n",
       "      <th>No</th>\n",
       "      <th>Yes</th>\n",
       "    </tr>\n",
       "    <tr>\n",
       "      <th>Department</th>\n",
       "      <th></th>\n",
       "      <th></th>\n",
       "    </tr>\n",
       "  </thead>\n",
       "  <tbody>\n",
       "    <tr>\n",
       "      <th>Human Resources</th>\n",
       "      <td>51</td>\n",
       "      <td>12</td>\n",
       "    </tr>\n",
       "    <tr>\n",
       "      <th>Research &amp; Development</th>\n",
       "      <td>828</td>\n",
       "      <td>133</td>\n",
       "    </tr>\n",
       "    <tr>\n",
       "      <th>Sales</th>\n",
       "      <td>354</td>\n",
       "      <td>92</td>\n",
       "    </tr>\n",
       "  </tbody>\n",
       "</table>\n",
       "</div>"
      ],
      "text/plain": [
       "Attrition                No  Yes\n",
       "Department                      \n",
       "Human Resources          51   12\n",
       "Research & Development  828  133\n",
       "Sales                   354   92"
      ]
     },
     "execution_count": 8,
     "metadata": {},
     "output_type": "execute_result"
    }
   ],
   "source": [
    "pd.crosstab(df[\"Department\"], df[\"Attrition\"])"
   ]
  },
  {
   "cell_type": "markdown",
   "id": "abe015f2-38bb-450c-bce0-fcb4ff96859c",
   "metadata": {},
   "source": [
    "Acima estamos visualizando a relação entre \"Departamento\" e \"Attrition\" (sendo esta ultima a coluna que descrimina se o funcionário permanece ou não na empresa).\n",
    "\n",
    "Ao visualizarmos que para o departamento \"Human Resources\" temos 51 para \"No\" e 12 para \"Yes\", leia-se que: \n",
    "\n",
    "   - O crosstab identificou que dos 1470 registros, 51 combinavam a coluna \"Department\" tendo como valor \"Human Resources\" **E** a coluna \"Attrition\" tendo como valor \"No\", podemos ler todos os demais valores da mesma forma. \t"
   ]
  },
  {
   "cell_type": "markdown",
   "id": "77c112f2-ef47-4f54-8551-06b527161512",
   "metadata": {},
   "source": [
    "#### Visualizando os dados do crosstab no formato de porcentagem\n",
    "\n",
    "Para visualizar o **percentual** que um valor representa dentro do \"universo\" na qual está inserido podemos utilizar o \"normalize\""
   ]
  },
  {
   "cell_type": "code",
   "execution_count": 15,
   "id": "7e34db10-922b-4322-9b04-d97fb9a8a4a4",
   "metadata": {},
   "outputs": [
    {
     "data": {
      "text/html": [
       "<div>\n",
       "<style scoped>\n",
       "    .dataframe tbody tr th:only-of-type {\n",
       "        vertical-align: middle;\n",
       "    }\n",
       "\n",
       "    .dataframe tbody tr th {\n",
       "        vertical-align: top;\n",
       "    }\n",
       "\n",
       "    .dataframe thead th {\n",
       "        text-align: right;\n",
       "    }\n",
       "</style>\n",
       "<table border=\"1\" class=\"dataframe\">\n",
       "  <thead>\n",
       "    <tr style=\"text-align: right;\">\n",
       "      <th>Attrition</th>\n",
       "      <th>No</th>\n",
       "      <th>Yes</th>\n",
       "    </tr>\n",
       "    <tr>\n",
       "      <th>Department</th>\n",
       "      <th></th>\n",
       "      <th></th>\n",
       "    </tr>\n",
       "  </thead>\n",
       "  <tbody>\n",
       "    <tr>\n",
       "      <th>Human Resources</th>\n",
       "      <td>0.809524</td>\n",
       "      <td>0.190476</td>\n",
       "    </tr>\n",
       "    <tr>\n",
       "      <th>Research &amp; Development</th>\n",
       "      <td>0.861602</td>\n",
       "      <td>0.138398</td>\n",
       "    </tr>\n",
       "    <tr>\n",
       "      <th>Sales</th>\n",
       "      <td>0.793722</td>\n",
       "      <td>0.206278</td>\n",
       "    </tr>\n",
       "  </tbody>\n",
       "</table>\n",
       "</div>"
      ],
      "text/plain": [
       "Attrition                     No       Yes\n",
       "Department                                \n",
       "Human Resources         0.809524  0.190476\n",
       "Research & Development  0.861602  0.138398\n",
       "Sales                   0.793722  0.206278"
      ]
     },
     "execution_count": 15,
     "metadata": {},
     "output_type": "execute_result"
    }
   ],
   "source": [
    "pd.crosstab(df[\"Department\"], df[\"Attrition\"], normalize=\"index\")\n",
    "\n",
    "# Visualizamos os dados em um formato horizontal (O primeiro argumento do crosstab)."
   ]
  },
  {
   "cell_type": "markdown",
   "id": "0fb9c79c-ba4e-48e9-8e37-b0ddd3213de3",
   "metadata": {},
   "source": [
    "*O normalize fará com que os valores sejam retornados em um formato percentual onde a soma dos valores é 1*\n",
    "\n",
    "Podemos ler o retorno do crosstab acima como:  </br> </br>\n",
    "    - Do \"universo\" do departamento \"Human Resources\", 80,95% dos funcionários **não saíram** e 19.05% **saíram** da empresa. </br>  </br>\n",
    "    - Do \"universo\" do departamento \"Research & Development\", 86,16% dos funcionários **não saíram** e 13.84% **saíram** da empresa. </br>  </br>\n",
    "    - Do \"universo\" do departamento \"Sales\", 79,37% dos funcionários **não saíram** e 20.63% **saíram** da empresa."
   ]
  },
  {
   "cell_type": "markdown",
   "id": "e79bddd8-fdc1-4872-84bf-3ffa3a584e6e",
   "metadata": {},
   "source": [
    "#### Visualizando os dados do crosstab no formato de porcentagem por \"Attrition\"\n",
    "\n",
    "Os dados acima estavam sendo enxergados de uma perspectiva do departamento na qual os registros, ou seja, o \"universo\" era o departamento, mas podemos fazer com que nosso \"universo\" seja a coluna \"Attrition\" e vamos visualizar diferentes valores, para isso basta informarmos ao crosstab que desejamos visualizar nossos valores tendo como \"universo\" as colunas."
   ]
  },
  {
   "cell_type": "code",
   "execution_count": 16,
   "id": "be504950-e3a3-45f5-9cfd-bbff96efb348",
   "metadata": {},
   "outputs": [
    {
     "data": {
      "text/html": [
       "<div>\n",
       "<style scoped>\n",
       "    .dataframe tbody tr th:only-of-type {\n",
       "        vertical-align: middle;\n",
       "    }\n",
       "\n",
       "    .dataframe tbody tr th {\n",
       "        vertical-align: top;\n",
       "    }\n",
       "\n",
       "    .dataframe thead th {\n",
       "        text-align: right;\n",
       "    }\n",
       "</style>\n",
       "<table border=\"1\" class=\"dataframe\">\n",
       "  <thead>\n",
       "    <tr style=\"text-align: right;\">\n",
       "      <th>Attrition</th>\n",
       "      <th>No</th>\n",
       "      <th>Yes</th>\n",
       "    </tr>\n",
       "    <tr>\n",
       "      <th>Department</th>\n",
       "      <th></th>\n",
       "      <th></th>\n",
       "    </tr>\n",
       "  </thead>\n",
       "  <tbody>\n",
       "    <tr>\n",
       "      <th>Human Resources</th>\n",
       "      <td>0.041363</td>\n",
       "      <td>0.050633</td>\n",
       "    </tr>\n",
       "    <tr>\n",
       "      <th>Research &amp; Development</th>\n",
       "      <td>0.671533</td>\n",
       "      <td>0.561181</td>\n",
       "    </tr>\n",
       "    <tr>\n",
       "      <th>Sales</th>\n",
       "      <td>0.287105</td>\n",
       "      <td>0.388186</td>\n",
       "    </tr>\n",
       "  </tbody>\n",
       "</table>\n",
       "</div>"
      ],
      "text/plain": [
       "Attrition                     No       Yes\n",
       "Department                                \n",
       "Human Resources         0.041363  0.050633\n",
       "Research & Development  0.671533  0.561181\n",
       "Sales                   0.287105  0.388186"
      ]
     },
     "execution_count": 16,
     "metadata": {},
     "output_type": "execute_result"
    }
   ],
   "source": [
    "pd.crosstab(df[\"Department\"], df[\"Attrition\"], normalize=\"columns\")\n",
    "\n",
    "# Visualizamos os dados em um formato vertical (O segundo argumento do crosstab)."
   ]
  },
  {
   "cell_type": "markdown",
   "id": "30321bfb-feb5-4e95-91db-fef52e7ead7d",
   "metadata": {},
   "source": [
    "Podemos ler o retorno do crosstab acima como:  </br> </br>\n",
    "\n",
    "    - Do \"universo\" de pessoas que permaneceram na empresa: \n",
    "        4,13% são de \"Human Resources\" \n",
    "    - Do \"universo\" de pessoas que saíram da empresa: \n",
    "        5,06% são de \"Human Resources\" \n",
    "\n",
    "\n",
    "    - Do \"universo\" de pessoas que permaneceram na empresa: \n",
    "        67,15% são de \"Research & Development\" \n",
    "    - Do \"universo\" de pessoas que saíram da empresa: \n",
    "        56,12% são de \"Research & Development\" \n",
    "\n",
    "\n",
    "    - Do \"universo\" de pessoas que permaneceram na empresa: \n",
    "        28,71% são de \"Sales\" \n",
    "    - Do \"universo\" de pessoas que saíram da empresa: \n",
    "        38,81% são de \"Sales\" "
   ]
  },
  {
   "cell_type": "markdown",
   "id": "f8a4559d-40fc-4e66-9589-0305c3c5e511",
   "metadata": {},
   "source": [
    "#### Utilizando o margins\n",
    "\n",
    "O margins é um argumento que passamos para o crosstab quando desejamos ver a soma dos registros:"
   ]
  },
  {
   "cell_type": "code",
   "execution_count": 17,
   "id": "4a7725f7-2c47-490a-a656-fcc44f4dbe37",
   "metadata": {},
   "outputs": [
    {
     "data": {
      "text/html": [
       "<div>\n",
       "<style scoped>\n",
       "    .dataframe tbody tr th:only-of-type {\n",
       "        vertical-align: middle;\n",
       "    }\n",
       "\n",
       "    .dataframe tbody tr th {\n",
       "        vertical-align: top;\n",
       "    }\n",
       "\n",
       "    .dataframe thead th {\n",
       "        text-align: right;\n",
       "    }\n",
       "</style>\n",
       "<table border=\"1\" class=\"dataframe\">\n",
       "  <thead>\n",
       "    <tr style=\"text-align: right;\">\n",
       "      <th>Attrition</th>\n",
       "      <th>No</th>\n",
       "      <th>Yes</th>\n",
       "      <th>All</th>\n",
       "    </tr>\n",
       "    <tr>\n",
       "      <th>Department</th>\n",
       "      <th></th>\n",
       "      <th></th>\n",
       "      <th></th>\n",
       "    </tr>\n",
       "  </thead>\n",
       "  <tbody>\n",
       "    <tr>\n",
       "      <th>Human Resources</th>\n",
       "      <td>51</td>\n",
       "      <td>12</td>\n",
       "      <td>63</td>\n",
       "    </tr>\n",
       "    <tr>\n",
       "      <th>Research &amp; Development</th>\n",
       "      <td>828</td>\n",
       "      <td>133</td>\n",
       "      <td>961</td>\n",
       "    </tr>\n",
       "    <tr>\n",
       "      <th>Sales</th>\n",
       "      <td>354</td>\n",
       "      <td>92</td>\n",
       "      <td>446</td>\n",
       "    </tr>\n",
       "    <tr>\n",
       "      <th>All</th>\n",
       "      <td>1233</td>\n",
       "      <td>237</td>\n",
       "      <td>1470</td>\n",
       "    </tr>\n",
       "  </tbody>\n",
       "</table>\n",
       "</div>"
      ],
      "text/plain": [
       "Attrition                 No  Yes   All\n",
       "Department                             \n",
       "Human Resources           51   12    63\n",
       "Research & Development   828  133   961\n",
       "Sales                    354   92   446\n",
       "All                     1233  237  1470"
      ]
     },
     "execution_count": 17,
     "metadata": {},
     "output_type": "execute_result"
    }
   ],
   "source": [
    "pd.crosstab(df[\"Department\"], df[\"Attrition\"], margins=True)"
   ]
  },
  {
   "cell_type": "markdown",
   "id": "f10e2c38-1303-459c-a7b0-de972baf05dc",
   "metadata": {},
   "source": [
    "Por padrão o margins vai nomear a coluna com a soma dos valores com o nome \"All\", mas podemos customizar isso com o margins_name"
   ]
  },
  {
   "cell_type": "code",
   "execution_count": 19,
   "id": "e2293e26-43f2-4475-a91d-8f8bf2f7041f",
   "metadata": {},
   "outputs": [
    {
     "data": {
      "text/html": [
       "<div>\n",
       "<style scoped>\n",
       "    .dataframe tbody tr th:only-of-type {\n",
       "        vertical-align: middle;\n",
       "    }\n",
       "\n",
       "    .dataframe tbody tr th {\n",
       "        vertical-align: top;\n",
       "    }\n",
       "\n",
       "    .dataframe thead th {\n",
       "        text-align: right;\n",
       "    }\n",
       "</style>\n",
       "<table border=\"1\" class=\"dataframe\">\n",
       "  <thead>\n",
       "    <tr style=\"text-align: right;\">\n",
       "      <th>Attrition</th>\n",
       "      <th>No</th>\n",
       "      <th>Yes</th>\n",
       "      <th>Total</th>\n",
       "    </tr>\n",
       "    <tr>\n",
       "      <th>Department</th>\n",
       "      <th></th>\n",
       "      <th></th>\n",
       "      <th></th>\n",
       "    </tr>\n",
       "  </thead>\n",
       "  <tbody>\n",
       "    <tr>\n",
       "      <th>Human Resources</th>\n",
       "      <td>51</td>\n",
       "      <td>12</td>\n",
       "      <td>63</td>\n",
       "    </tr>\n",
       "    <tr>\n",
       "      <th>Research &amp; Development</th>\n",
       "      <td>828</td>\n",
       "      <td>133</td>\n",
       "      <td>961</td>\n",
       "    </tr>\n",
       "    <tr>\n",
       "      <th>Sales</th>\n",
       "      <td>354</td>\n",
       "      <td>92</td>\n",
       "      <td>446</td>\n",
       "    </tr>\n",
       "    <tr>\n",
       "      <th>Total</th>\n",
       "      <td>1233</td>\n",
       "      <td>237</td>\n",
       "      <td>1470</td>\n",
       "    </tr>\n",
       "  </tbody>\n",
       "</table>\n",
       "</div>"
      ],
      "text/plain": [
       "Attrition                 No  Yes  Total\n",
       "Department                              \n",
       "Human Resources           51   12     63\n",
       "Research & Development   828  133    961\n",
       "Sales                    354   92    446\n",
       "Total                   1233  237   1470"
      ]
     },
     "execution_count": 19,
     "metadata": {},
     "output_type": "execute_result"
    }
   ],
   "source": [
    "pd.crosstab(df[\"Department\"], df[\"Attrition\"], margins=True ,margins_name=\"Total\")"
   ]
  },
  {
   "cell_type": "markdown",
   "id": "5747a8ff-40c6-4d9a-a9f3-d283e57aa8fd",
   "metadata": {},
   "source": [
    "#### Fazendo um gráfico a partir do crosstab"
   ]
  },
  {
   "cell_type": "code",
   "execution_count": 29,
   "id": "31499f3d-13a0-4f96-9aff-cf045112996b",
   "metadata": {},
   "outputs": [
    {
     "data": {
      "image/png": "[encoded data removed]",
      "text/plain": [
       "<Figure size 640x480 with 1 Axes>"
      ]
     },
     "metadata": {},
     "output_type": "display_data"
    }
   ],
   "source": [
    "pd.crosstab(df[\"Department\"], df[\"Attrition\"]).plot(kind=\"bar\");"
   ]
  }
 ],
 "metadata": {
  "kernelspec": {
   "display_name": "Python 3 (ipykernel)",
   "language": "python",
   "name": "python3"
  },
  "language_info": {
   "codemirror_mode": {
    "name": "ipython",
    "version": 3
   },
   "file_extension": ".py",
   "mimetype": "text/x-python",
   "name": "python",
   "nbconvert_exporter": "python",
   "pygments_lexer": "ipython3",
   "version": "3.11.7"
  }
 },
 "nbformat": 4,
 "nbformat_minor": 5
}
