{
 "cells": [
  {
   "cell_type": "markdown",
   "id": "c5633a8a-a143-462a-afa1-ba3844c73c0c",
   "metadata": {},
   "source": [
    "É possível enfatizarmos com cores o retorno do crosstab, isso ajuda a visualizarmos de forma mais rápida quando a combinação de duas variáveis do nosso Dataset ocorre com muita frequência"
   ]
  },
  {
   "cell_type": "markdown",
   "id": "6a691cdd-6c80-4062-a5d7-e999ff96129c",
   "metadata": {
    "jp-MarkdownHeadingCollapsed": true
   },
   "source": [
    "### Preparativos do Dataset (remoção de colunas sem variação de valores e categorizando as colunas ordenadas e não ordenadas)"
   ]
  },
  {
   "cell_type": "code",
   "execution_count": 1,
   "id": "ad07a5e0-8ca5-4d04-b7d1-56de14e2f0d7",
   "metadata": {},
   "outputs": [
    {
     "name": "stdout",
     "output_type": "stream",
     "text": [
      "Removendo coluna EmployeeCount\n",
      "Removendo coluna Over18\n",
      "Removendo coluna StandardHours\n"
     ]
    }
   ],
   "source": [
    "import pandas as pd\n",
    "\n",
    "BASE = \"../datasets/HR-Employee-Attrition.csv\"\n",
    "\n",
    "df = pd.read_csv(BASE)\n",
    "\n",
    "\n",
    "# Limpando a base de colunas com valores não variam e removendo a\n",
    "# coluna de identificação (EmployeeNumber)\n",
    "\n",
    "df = df.drop(\"EmployeeNumber\", axis=1)\n",
    "\n",
    "for c in df.columns:\n",
    "    column = df[c]\n",
    "    if (column.nunique() <= 1):\n",
    "        print(f\"Removendo coluna {c}\") \n",
    "        df = df.drop(c, axis=1)\n",
    "\n",
    "\n",
    "# Separando nossas colunas por variáveis categóricas ordenadas e \n",
    "# não ordernadas\n",
    "\n",
    "\n",
    "# Colunas que são categóricas e não ordenadas\n",
    "columns_categorical_not_ordered = [\n",
    "    'BusinessTravel',\n",
    "    'Department',\n",
    "    'EducationField',\n",
    "    'Gender',\n",
    "    'JobRole',\n",
    "    'MaritalStatus',\n",
    "    'OverTime'\n",
    "]\n",
    "\n",
    "# Colunas que são categóricas e ordernadas\n",
    "columns_categorical_ordered = [\n",
    "    'Education',\n",
    "    'EnvironmentSatisfaction',\n",
    "    'JobSatisfaction',\n",
    "    'JobInvolvement',\n",
    "    'JobLevel',\n",
    "    'PerformanceRating',\n",
    "    'RelationshipSatisfaction',\n",
    "    'StockOptionLevel',\n",
    "    'WorkLifeBalance',\n",
    "    'JobInvolvement'\n",
    "]\n",
    "\n",
    "target_column = ['Attrition']\n",
    "\n",
    "\n",
    "numeric_columns = [\n",
    "    column\n",
    "    for column in df.columns\n",
    "    if column not in (columns_categorical_ordered + columns_categorical_not_ordered + target_column)\n",
    "]\n",
    "\n",
    "\n",
    "# Convertendo nossas colunas não ordernadas para o tipo category\n",
    "\n",
    "for column in columns_categorical_not_ordered:\n",
    "    df[column] = df[column].astype(\"category\")"
   ]
  },
  {
   "cell_type": "markdown",
   "id": "cb0c8e4f-fc76-4962-bb21-69aa95cfc058",
   "metadata": {},
   "source": [
    "### Usando o crosstab com .style\n",
    "\n",
    "https://matplotlib.org/stable/users/explain/colors/colormaps.html"
   ]
  },
  {
   "cell_type": "code",
   "execution_count": 5,
   "id": "eab95e8b-c9ba-4c78-9a14-32d491342612",
   "metadata": {},
   "outputs": [
    {
     "data": {
      "text/html": [
       "<style type=\"text/css\">\n",
       "#T_13c0c_row0_col0, #T_13c0c_row1_col0, #T_13c0c_row2_col0 {\n",
       "  background-color: #006837;\n",
       "  color: #f1f1f1;\n",
       "}\n",
       "#T_13c0c_row0_col1, #T_13c0c_row1_col1, #T_13c0c_row2_col1 {\n",
       "  background-color: #a50026;\n",
       "  color: #f1f1f1;\n",
       "}\n",
       "</style>\n",
       "<table id=\"T_13c0c\">\n",
       "  <thead>\n",
       "    <tr>\n",
       "      <th class=\"index_name level0\" >Attrition</th>\n",
       "      <th id=\"T_13c0c_level0_col0\" class=\"col_heading level0 col0\" >No</th>\n",
       "      <th id=\"T_13c0c_level0_col1\" class=\"col_heading level0 col1\" >Yes</th>\n",
       "    </tr>\n",
       "    <tr>\n",
       "      <th class=\"index_name level0\" >Department</th>\n",
       "      <th class=\"blank col0\" >&nbsp;</th>\n",
       "      <th class=\"blank col1\" >&nbsp;</th>\n",
       "    </tr>\n",
       "  </thead>\n",
       "  <tbody>\n",
       "    <tr>\n",
       "      <th id=\"T_13c0c_level0_row0\" class=\"row_heading level0 row0\" >Human Resources</th>\n",
       "      <td id=\"T_13c0c_row0_col0\" class=\"data row0 col0\" >0.809524</td>\n",
       "      <td id=\"T_13c0c_row0_col1\" class=\"data row0 col1\" >0.190476</td>\n",
       "    </tr>\n",
       "    <tr>\n",
       "      <th id=\"T_13c0c_level0_row1\" class=\"row_heading level0 row1\" >Research & Development</th>\n",
       "      <td id=\"T_13c0c_row1_col0\" class=\"data row1 col0\" >0.861602</td>\n",
       "      <td id=\"T_13c0c_row1_col1\" class=\"data row1 col1\" >0.138398</td>\n",
       "    </tr>\n",
       "    <tr>\n",
       "      <th id=\"T_13c0c_level0_row2\" class=\"row_heading level0 row2\" >Sales</th>\n",
       "      <td id=\"T_13c0c_row2_col0\" class=\"data row2 col0\" >0.793722</td>\n",
       "      <td id=\"T_13c0c_row2_col1\" class=\"data row2 col1\" >0.206278</td>\n",
       "    </tr>\n",
       "  </tbody>\n",
       "</table>\n"
      ],
      "text/plain": [
       "<pandas.io.formats.style.Styler at 0x7f5ed6aa5a90>"
      ]
     },
     "execution_count": 5,
     "metadata": {},
     "output_type": "execute_result"
    }
   ],
   "source": [
    "pd.crosstab(df[\"Department\"], df[\"Attrition\"], normalize=\"index\").style.background_gradient(cmap=\"RdYlGn\", axis=\"columns\")"
   ]
  }
 ],
 "metadata": {
  "kernelspec": {
   "display_name": "Python 3 (ipykernel)",
   "language": "python",
   "name": "python3"
  },
  "language_info": {
   "codemirror_mode": {
    "name": "ipython",
    "version": 3
   },
   "file_extension": ".py",
   "mimetype": "text/x-python",
   "name": "python",
   "nbconvert_exporter": "python",
   "pygments_lexer": "ipython3",
   "version": "3.11.7"
  }
 },
 "nbformat": 4,
 "nbformat_minor": 5
}
