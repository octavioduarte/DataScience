{
 "cells": [
  {
   "cell_type": "markdown",
   "id": "21e36f29-8f1a-4918-af3d-89f570b6eaa7",
   "metadata": {},
   "source": [
    "##  Sobre o Pandas\n",
    "\n",
    "O Pandas (segundo sua própria documentação) é um pacote Python feito para prover de forma rápida, flexível e expressiva dados estruturados sejam eles relacionais ou rotulados. Na documentação diz também que o Pandas tem como objetivo de se tornar a ferramenta de análise e manipulação de dados de código aberto mais flexível do mercado.\n",
    "\n",
    "As duas estruturas primárias do Pandas são as `Series` (1D) e os `DataFrames` (2D).\n",
    "\n",
    "Eis uma lista com as features que o Pandas sabe lidar bem:  (extraído de https://pandas.pydata.org/docs/getting_started/overview.html)\n",
    "\n",
    "\n",
    "\n",
    "    * Tratamento fácil de dados ausentes (representados como NaN) em dados de ponto flutuante e não-ponto flutuante.\n",
    "\n",
    "    * Mutabilidade de tamanho: colunas podem ser inseridas e excluídas de DataFrames e objetos de dimensões superiores.\n",
    "\n",
    "    * Alinhamento automático e explícito de dados: os objetos podem ser alinhados explicitamente a um conjunto de rótulos, ou o usuário pode simplesmente ignorar os rótulos e deixar que Series, DataFrame, etc., alinhem automaticamente os dados para você em cálculos.\n",
    "\n",
    "    * Funcionalidade de agrupamento poderosa e flexível para realizar operações de divisão-aplicação-combinação em conjuntos de dados, tanto para agregação quanto para transformação de dados.\n",
    "\n",
    "    * Facilidade para converter dados irregulares e com índices diferentes em outras estruturas de dados do Python e NumPy para objetos DataFrame.\n",
    "\n",
    "    * Corte inteligente baseado em rótulos, indexação sofisticada e subconjunto de grandes conjuntos de dados.\n",
    "\n",
    "    * Fusão e junção intuitivas de conjuntos de dados.\n",
    "\n",
    "    * Redimensionamento flexível e pivoteamento de conjuntos de dados.\n",
    "\n",
    "    * Rotulagem hierárquica dos eixos (possível ter múltiplos rótulos por marcação).\n",
    "\n",
    "    * Ferramentas robustas de E/S para carregar dados de arquivos planos (CSV e delimitados), arquivos Excel, bases de dados e para salvar/carregar dados no formato ultra-rápido HDF5.\n",
    "\n",
    "    * Funcionalidades específicas para séries temporais: geração de intervalos de datas e conversão de frequências, estatísticas de janelas móveis, deslocamento de datas e defasagem.\n",
    "\n"
   ]
  },
  {
   "cell_type": "markdown",
   "id": "96951513-04a6-4137-a77f-3de9eb4098f0",
   "metadata": {},
   "source": [
    "### Pandas é rápido\n",
    "\n",
    "Muitos dos algoritimos de baixo nível da lib foram escritos em Cython (https://www.youtube.com/watch?v=wfjJWf-jebI)"
   ]
  },
  {
   "cell_type": "code",
   "execution_count": null,
   "id": "da78259f-84ee-46d4-936d-3fa2f6934446",
   "metadata": {},
   "outputs": [],
   "source": []
  }
 ],
 "metadata": {
  "kernelspec": {
   "display_name": "Python 3 (ipykernel)",
   "language": "python",
   "name": "python3"
  },
  "language_info": {
   "codemirror_mode": {
    "name": "ipython",
    "version": 3
   },
   "file_extension": ".py",
   "mimetype": "text/x-python",
   "name": "python",
   "nbconvert_exporter": "python",
   "pygments_lexer": "ipython3",
   "version": "3.11.7"
  }
 },
 "nbformat": 4,
 "nbformat_minor": 5
}
