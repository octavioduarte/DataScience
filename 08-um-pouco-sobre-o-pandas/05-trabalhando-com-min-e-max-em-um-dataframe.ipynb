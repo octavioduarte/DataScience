{
 "cells": [
  {
   "cell_type": "markdown",
   "id": "7d91e104-4989-473d-9aa8-d2e173afcf17",
   "metadata": {},
   "source": [
    "É comum que desejemos obter o registro que tem maior ou menor valor de um DataFrame, e podemos usar alguns métodos do Pandas pra isso. "
   ]
  },
  {
   "cell_type": "code",
   "execution_count": 2,
   "id": "04f50460-e65e-4fdf-8c49-e230079b3518",
   "metadata": {},
   "outputs": [],
   "source": [
    "import pandas as pd\n",
    "\n",
    "BASE = \"../datasets/Pokemon.csv\""
   ]
  },
  {
   "cell_type": "code",
   "execution_count": 5,
   "id": "66ba47f8-a669-4eb3-857a-eaacc8c26a4a",
   "metadata": {},
   "outputs": [],
   "source": [
    "df = pd.read_csv(BASE)"
   ]
  },
  {
   "cell_type": "markdown",
   "id": "6f7d5d3e-6113-4020-b64f-ccd1263f9e85",
   "metadata": {},
   "source": [
    "## min()\n",
    "\n",
    "Retorna o valor minimo de uma Series"
   ]
  },
  {
   "cell_type": "code",
   "execution_count": 6,
   "id": "7692c3e5-dad8-4616-bb2d-ea8157991185",
   "metadata": {},
   "outputs": [
    {
     "data": {
      "text/plain": [
       "5"
      ]
     },
     "execution_count": 6,
     "metadata": {},
     "output_type": "execute_result"
    }
   ],
   "source": [
    "df[\"attack\"].min() "
   ]
  },
  {
   "cell_type": "markdown",
   "id": "b48b6412-b0e6-46d4-a494-000ba2a97daa",
   "metadata": {},
   "source": [
    "## idxmin()\n",
    "\n",
    "Para acessar o indice do registro cujo o valor seja o menor da Series."
   ]
  },
  {
   "cell_type": "code",
   "execution_count": 7,
   "id": "bf25d434-cfae-4dec-85cd-8a5ed1dff398",
   "metadata": {},
   "outputs": [
    {
     "data": {
      "text/plain": [
       "155"
      ]
     },
     "execution_count": 7,
     "metadata": {},
     "output_type": "execute_result"
    }
   ],
   "source": [
    "df[\"attack\"].idxmin()"
   ]
  },
  {
   "cell_type": "markdown",
   "id": "7d0cdaff-0549-4f6d-870a-e10d429e8d8a",
   "metadata": {},
   "source": [
    "## Com o índice em mãos podemos agora obter a linha do nosso DataFrame com o .loc()"
   ]
  },
  {
   "cell_type": "code",
   "execution_count": 11,
   "id": "33a4ef20-b43a-4127-b49c-60e4774dec1d",
   "metadata": {},
   "outputs": [
    {
     "data": {
      "text/plain": [
       "number            113\n",
       "name          Chansey\n",
       "type1          Normal\n",
       "type2             NaN\n",
       "total             450\n",
       "hp                250\n",
       "attack              5\n",
       "defense             5\n",
       "sp_attack          35\n",
       "sp_defense        105\n",
       "speed              50\n",
       "generation          1\n",
       "legendary       False\n",
       "Name: 155, dtype: object"
      ]
     },
     "execution_count": 11,
     "metadata": {},
     "output_type": "execute_result"
    }
   ],
   "source": [
    "df.loc[df[\"attack\"].idxmin()]"
   ]
  },
  {
   "cell_type": "markdown",
   "id": "654b5b22-8ffc-4935-95ca-4c245df9c9ca",
   "metadata": {},
   "source": [
    "## O mesmo vale quando queremos o maior registro usando o .max() e o idxmax()"
   ]
  },
  {
   "cell_type": "code",
   "execution_count": 12,
   "id": "96bc0c3d-02d3-4ff6-a1aa-90c45237d7dd",
   "metadata": {},
   "outputs": [
    {
     "data": {
      "text/plain": [
       "190"
      ]
     },
     "execution_count": 12,
     "metadata": {},
     "output_type": "execute_result"
    }
   ],
   "source": [
    "df[\"attack\"].max()"
   ]
  },
  {
   "cell_type": "code",
   "execution_count": 13,
   "id": "44b42b2d-394b-40f1-93cf-3dd3f6456368",
   "metadata": {},
   "outputs": [
    {
     "data": {
      "text/plain": [
       "204"
      ]
     },
     "execution_count": 13,
     "metadata": {},
     "output_type": "execute_result"
    }
   ],
   "source": [
    "df[\"attack\"].idxmax()"
   ]
  },
  {
   "cell_type": "code",
   "execution_count": 14,
   "id": "bdcb5991-f273-4c4b-bde5-428c4c6e0121",
   "metadata": {},
   "outputs": [
    {
     "data": {
      "text/plain": [
       "number                  150\n",
       "name          Mega Mewtwo X\n",
       "type1               Psychic\n",
       "type2              Fighting\n",
       "total                   780\n",
       "hp                      106\n",
       "attack                  190\n",
       "defense                 100\n",
       "sp_attack               154\n",
       "sp_defense              100\n",
       "speed                   130\n",
       "generation                1\n",
       "legendary              True\n",
       "Name: 204, dtype: object"
      ]
     },
     "execution_count": 14,
     "metadata": {},
     "output_type": "execute_result"
    }
   ],
   "source": [
    "df.loc[df[\"attack\"].idxmax()]"
   ]
  }
 ],
 "metadata": {
  "kernelspec": {
   "display_name": "Python 3 (ipykernel)",
   "language": "python",
   "name": "python3"
  },
  "language_info": {
   "codemirror_mode": {
    "name": "ipython",
    "version": 3
   },
   "file_extension": ".py",
   "mimetype": "text/x-python",
   "name": "python",
   "nbconvert_exporter": "python",
   "pygments_lexer": "ipython3",
   "version": "3.11.7"
  }
 },
 "nbformat": 4,
 "nbformat_minor": 5
}
