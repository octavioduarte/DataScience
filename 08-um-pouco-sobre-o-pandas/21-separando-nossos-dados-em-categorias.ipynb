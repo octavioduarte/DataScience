{
 "cells": [
  {
   "cell_type": "code",
   "execution_count": 2,
   "id": "4c24da2d-0798-40a5-ae85-2e9856b4b1a6",
   "metadata": {},
   "outputs": [],
   "source": [
    "import pandas as pd\n",
    "\n",
    "BASE = \"../datasets/HR-Employee-Attrition.csv\"\n",
    "\n",
    "df = pd.read_csv(BASE)"
   ]
  },
  {
   "cell_type": "markdown",
   "id": "2f6c1ea2-631a-4c60-825f-58da285244fa",
   "metadata": {},
   "source": [
    "#### Limpando a base de colunas com valores não variam e removendo a coluna de identificação (EmployeeNumber)"
   ]
  },
  {
   "cell_type": "code",
   "execution_count": 3,
   "id": "099d962b-f684-463c-b956-79519b6fd0af",
   "metadata": {},
   "outputs": [
    {
     "name": "stdout",
     "output_type": "stream",
     "text": [
      "EmployeeCount\n",
      "Over18\n",
      "StandardHours\n"
     ]
    }
   ],
   "source": [
    "df = df.drop(\"EmployeeNumber\", axis=1)\n",
    "\n",
    "for c in df.columns:\n",
    "    column = df[c]\n",
    "    if (column.nunique() <= 1):\n",
    "        print(c) \n",
    "        df = df.drop(c, axis=1)"
   ]
  },
  {
   "cell_type": "markdown",
   "id": "9485c6bd-268b-4309-8acf-51d5c024518f",
   "metadata": {},
   "source": [
    "#### Separando nossas colunas por variáveis categóricas ordenadas e não ordernadas"
   ]
  },
  {
   "cell_type": "code",
   "execution_count": 4,
   "id": "fdc26378-7c52-425d-9243-6931acedebe1",
   "metadata": {},
   "outputs": [],
   "source": [
    "\n",
    "# Colunas que são categóricas e não ordenadas\n",
    "columns_categorical_not_ordered = [\n",
    "    'BusinessTravel',\n",
    "    'Department',\n",
    "    'EducationField',\n",
    "    'Gender',\n",
    "    'JobRole',\n",
    "    'MaritalStatus',\n",
    "    'OverTime'\n",
    "]\n",
    "\n",
    "# Colunas que são categóricas e ordernadas\n",
    "columns_categorical_ordered = [\n",
    "    'Education',\n",
    "    'EnvironmentSatisfaction',\n",
    "    'JobSatisfaction',\n",
    "    'JobInvolvement',\n",
    "    'JobLevel',\n",
    "    'PerformanceRating',\n",
    "    'RelationshipSatisfaction',\n",
    "    'StockOptionLevel',\n",
    "    'WorkLifeBalance',\n",
    "    'JobInvolvement'\n",
    "]\n",
    "\n",
    "target_column = ['Attrition']\n",
    "\n",
    "\n",
    "numeric_columns = [\n",
    "    column\n",
    "    for column in df.columns\n",
    "    if column not in (columns_categorical_ordered + columns_categorical_not_ordered + target_column)\n",
    "]"
   ]
  },
  {
   "cell_type": "code",
   "execution_count": 5,
   "id": "33dbc864-37a3-494a-80f4-0263f1ccfedb",
   "metadata": {},
   "outputs": [],
   "source": [
    "# Convertendo nossas colunas não ordernadas para o tipo category\n",
    "\n",
    "for column in columns_categorical_not_ordered:\n",
    "    df[column] = df[column].astype(\"category\")"
   ]
  },
  {
   "cell_type": "markdown",
   "id": "ff725b66-c5bb-49a7-a375-16b58d346f8a",
   "metadata": {},
   "source": [
    "### Ordernando nossos dados pelas categorias que criamos"
   ]
  },
  {
   "cell_type": "code",
   "execution_count": 10,
   "id": "24348d66-e211-4824-931d-66d1ece7e41d",
   "metadata": {},
   "outputs": [
    {
     "data": {
      "text/plain": [
       "Department              Attrition\n",
       "Human Resources         No            51\n",
       "                        Yes           12\n",
       "Research & Development  No           828\n",
       "                        Yes          133\n",
       "Sales                   No           354\n",
       "                        Yes           92\n",
       "dtype: int64"
      ]
     },
     "execution_count": 10,
     "metadata": {},
     "output_type": "execute_result"
    }
   ],
   "source": [
    "df.groupby([\"Department\", \"Attrition\"], observed=True).size()\n",
    "\n",
    "# O argumento \"observed\" serve para visualizarmos apenas dados cuja a coluna seja categórica."
   ]
  }
 ],
 "metadata": {
  "kernelspec": {
   "display_name": "Python 3 (ipykernel)",
   "language": "python",
   "name": "python3"
  },
  "language_info": {
   "codemirror_mode": {
    "name": "ipython",
    "version": 3
   },
   "file_extension": ".py",
   "mimetype": "text/x-python",
   "name": "python",
   "nbconvert_exporter": "python",
   "pygments_lexer": "ipython3",
   "version": "3.11.7"
  }
 },
 "nbformat": 4,
 "nbformat_minor": 5
}
