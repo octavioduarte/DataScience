{
 "cells": [
  {
   "cell_type": "markdown",
   "id": "932cadf2-0e79-4c69-86fb-3cc82b2a6d89",
   "metadata": {},
   "source": [
    "## value_counts()"
   ]
  },
  {
   "cell_type": "code",
   "execution_count": 2,
   "id": "2aa11616-87f2-445f-8d90-b263641c36de",
   "metadata": {},
   "outputs": [],
   "source": [
    "import pandas as pd\n",
    "\n",
    "BASE = \"../datasets/Pokemon.csv\"\n",
    "\n",
    "df = pd.read_csv(BASE)"
   ]
  },
  {
   "cell_type": "markdown",
   "id": "73612a65-ebac-4393-b5b8-3c8064e11c8c",
   "metadata": {},
   "source": [
    "Já vimos que o .value_counts() faz contagem de valores de um determinado conjunto de dados, no cenário abaixo estamos obtendo o total de\n",
    "Pokemons por tipo:"
   ]
  },
  {
   "cell_type": "code",
   "execution_count": 7,
   "id": "7bff07bf-afd9-44a5-890c-41008226aab2",
   "metadata": {},
   "outputs": [
    {
     "data": {
      "text/plain": [
       "type1\n",
       "Water        136\n",
       "Normal       117\n",
       "Grass         94\n",
       "Bug           83\n",
       "Psychic       80\n",
       "Fire          67\n",
       "Electric      63\n",
       "Rock          60\n",
       "Dark          48\n",
       "Fighting      45\n",
       "Ghost         43\n",
       "Poison        42\n",
       "Ground        42\n",
       "Dragon        41\n",
       "Steel         39\n",
       "Ice           38\n",
       "Fairy         23\n",
       "Flying         9\n",
       "Blastoise      1\n",
       "Graass         1\n",
       "Name: count, dtype: int64"
      ]
     },
     "execution_count": 7,
     "metadata": {},
     "output_type": "execute_result"
    }
   ],
   "source": [
    "df[\"type1\"].value_counts()"
   ]
  },
  {
   "cell_type": "markdown",
   "id": "50627728-95f7-459a-a635-4534a19d9e24",
   "metadata": {},
   "source": [
    "Mas podemos passar alguns argumentos para a função que vai alterar o retorno do nosso método. No exemplo abaixo vamos fazer a contagem da coluna \"speed\", algo que por si só não faz muito sentido, mas seria interessante obtermos o total de registros por um determinado range de valores e para isso podemos usar o `bins` como argumento do nosso `value_counts`."
   ]
  },
  {
   "cell_type": "code",
   "execution_count": 10,
   "id": "b2c0c289-af23-4562-873e-7fcf5993f2b5",
   "metadata": {},
   "outputs": [
    {
     "data": {
      "text/plain": [
       "(44.0, 63.5]                 243\n",
       "(63.5, 83.0]                 238\n",
       "(83.0, 102.5]                208\n",
       "(24.5, 44.0]                 198\n",
       "(102.5, 122.0]                93\n",
       "(4.803999999999999, 24.5]     46\n",
       "(122.0, 141.5]                31\n",
       "(141.5, 161.0]                13\n",
       "(161.0, 180.5]                 1\n",
       "(180.5, 200.0]                 1\n",
       "Name: count, dtype: int64"
      ]
     },
     "execution_count": 10,
     "metadata": {},
     "output_type": "execute_result"
    }
   ],
   "source": [
    "df[\"speed\"].value_counts(bins=10)"
   ]
  },
  {
   "cell_type": "markdown",
   "id": "f1178fa9-0b35-49e0-8a9a-a934a56f3d72",
   "metadata": {},
   "source": [
    "Na prática o `Pandas` pegou o valor mínimo e máximo da Series `speed`, e dividiu os dados em **10** grupos iguais (o valor que passamos como argumento) e fez a contagem de quantos valores correspondem para cada range, ou seja, para: \n",
    "\n",
    "Existem 243 pokemons com velocidade entre 44 e 63.5 <br/>\n",
    "Existem 238 pokemons com velocidade entre 63.5 e 83.0 <br/>\n",
    "Existem 208 pokemons com velocidade entre 83.0 e 102.5 <br/>\n",
    "etc..."
   ]
  },
  {
   "cell_type": "markdown",
   "id": "adf82fc7-d2de-4af4-91dc-19c153681d7c",
   "metadata": {},
   "source": [
    "**Adicionando o sort_index() para ordenar os valores**"
   ]
  },
  {
   "cell_type": "code",
   "execution_count": 11,
   "id": "3d0f60ad-0d49-40c7-92c6-736d3e37e75d",
   "metadata": {},
   "outputs": [
    {
     "data": {
      "text/plain": [
       "(4.803999999999999, 24.5]     46\n",
       "(24.5, 44.0]                 198\n",
       "(44.0, 63.5]                 243\n",
       "(63.5, 83.0]                 238\n",
       "(83.0, 102.5]                208\n",
       "(102.5, 122.0]                93\n",
       "(122.0, 141.5]                31\n",
       "(141.5, 161.0]                13\n",
       "(161.0, 180.5]                 1\n",
       "(180.5, 200.0]                 1\n",
       "Name: count, dtype: int64"
      ]
     },
     "execution_count": 11,
     "metadata": {},
     "output_type": "execute_result"
    }
   ],
   "source": [
    "df[\"speed\"].value_counts(bins=10).sort_index()"
   ]
  },
  {
   "cell_type": "markdown",
   "id": "b28908f1-c6e2-400b-b4a6-0b6c12d75d50",
   "metadata": {},
   "source": [
    "Um ponto interessante por de trás da simbologia do retorno, temos o formato: \n",
    "\n",
    "(valor inicial, valor final]  --> Abre com parenteses e fecha com conchetes, isso indica que o valor inicial não está incluído na busca, mas o valor final está. "
   ]
  },
  {
   "cell_type": "markdown",
   "id": "27d0910f-4f53-41dd-b8a8-46d011f676b4",
   "metadata": {},
   "source": [
    "## Podemos obter o percentual de valores para cada range com o \"normalize\":"
   ]
  },
  {
   "cell_type": "code",
   "execution_count": 13,
   "id": "f2f9f21c-bdba-4e76-9f28-d09f61364bae",
   "metadata": {},
   "outputs": [
    {
     "data": {
      "text/plain": [
       "(4.803999999999999, 24.5]    0.042910\n",
       "(24.5, 44.0]                 0.184701\n",
       "(44.0, 63.5]                 0.226679\n",
       "(63.5, 83.0]                 0.222015\n",
       "(83.0, 102.5]                0.194030\n",
       "(102.5, 122.0]               0.086754\n",
       "(122.0, 141.5]               0.028918\n",
       "(141.5, 161.0]               0.012127\n",
       "(161.0, 180.5]               0.000933\n",
       "(180.5, 200.0]               0.000933\n",
       "Name: proportion, dtype: float64"
      ]
     },
     "execution_count": 13,
     "metadata": {},
     "output_type": "execute_result"
    }
   ],
   "source": [
    "df[\"speed\"].value_counts(bins=10, normalize=True).sort_index()"
   ]
  },
  {
   "cell_type": "markdown",
   "id": "285f02ca-9a76-4a46-91cd-bb15e90ff63e",
   "metadata": {},
   "source": [
    "Vimos que por padrão ele nos retorna dados entre 0 e 1, mas podemos multiplicar por 100 para termos uma visualização mais coerente."
   ]
  },
  {
   "cell_type": "code",
   "execution_count": 16,
   "id": "63f808cc-2f90-45c7-b32d-24a0b70ebf39",
   "metadata": {},
   "outputs": [
    {
     "data": {
      "text/plain": [
       "(4.803999999999999, 24.5]     4.29\n",
       "(24.5, 44.0]                 18.47\n",
       "(44.0, 63.5]                 22.67\n",
       "(63.5, 83.0]                 22.20\n",
       "(83.0, 102.5]                19.40\n",
       "(102.5, 122.0]                8.68\n",
       "(122.0, 141.5]                2.89\n",
       "(141.5, 161.0]                1.21\n",
       "(161.0, 180.5]                0.09\n",
       "(180.5, 200.0]                0.09\n",
       "Name: proportion, dtype: float64"
      ]
     },
     "execution_count": 16,
     "metadata": {},
     "output_type": "execute_result"
    }
   ],
   "source": [
    "df[\"speed\"].value_counts(bins=10, normalize=True).sort_index().mul(100).round(2)"
   ]
  }
 ],
 "metadata": {
  "kernelspec": {
   "display_name": "Python 3 (ipykernel)",
   "language": "python",
   "name": "python3"
  },
  "language_info": {
   "codemirror_mode": {
    "name": "ipython",
    "version": 3
   },
   "file_extension": ".py",
   "mimetype": "text/x-python",
   "name": "python",
   "nbconvert_exporter": "python",
   "pygments_lexer": "ipython3",
   "version": "3.11.7"
  }
 },
 "nbformat": 4,
 "nbformat_minor": 5
}
