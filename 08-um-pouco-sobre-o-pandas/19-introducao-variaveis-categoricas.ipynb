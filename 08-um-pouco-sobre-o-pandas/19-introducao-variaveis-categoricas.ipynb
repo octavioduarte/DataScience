{
 "cells": [
  {
   "cell_type": "code",
   "execution_count": 2,
   "id": "e1e78cd9-b154-4cde-8aad-21b8d8aa9e36",
   "metadata": {},
   "outputs": [],
   "source": [
    "import pandas as pd\n",
    "\n",
    "BASE = '../datasets/HR-Employee-Attrition.csv'\n",
    "\n",
    "df = pd.read_csv(BASE)"
   ]
  },
  {
   "cell_type": "markdown",
   "id": "eb620c50-2977-42cc-b6d4-835c3f7706b3",
   "metadata": {},
   "source": [
    "### Introdução a variáveis categóricas:\n",
    "\n",
    "Variáveis categóricas são em outras palavras colunas de um DataSet com pouca variação de valores. Alguns profissionais da área de ciência de dados chamam de variáveis discretas por que tendem a manter valores bem especificos de pouco dinamismo. Essas variáveis são úteis para agruparmos um conjunto de registros dentro de uma única categoria."
   ]
  },
  {
   "cell_type": "code",
   "execution_count": 20,
   "id": "9796c050-6455-47c0-856e-96adf87bf293",
   "metadata": {},
   "outputs": [
    {
     "name": "stdout",
     "output_type": "stream",
     "text": [
      "Age 43\n",
      "\n",
      "Attrition 2\n",
      "\n",
      "BusinessTravel 3\n",
      "\n",
      "DailyRate 886\n",
      "\n",
      "Department 3\n",
      "\n",
      "DistanceFromHome 29\n",
      "\n",
      "Education 5\n",
      "\n",
      "EducationField 6\n",
      "\n",
      "EmployeeCount 1\n",
      "\n",
      "EmployeeNumber 1470\n",
      "\n",
      "EnvironmentSatisfaction 4\n",
      "\n",
      "Gender 2\n",
      "\n",
      "HourlyRate 71\n",
      "\n",
      "JobInvolvement 4\n",
      "\n",
      "JobLevel 5\n",
      "\n",
      "JobRole 9\n",
      "\n",
      "JobSatisfaction 4\n",
      "\n",
      "MaritalStatus 3\n",
      "\n",
      "MonthlyIncome 1349\n",
      "\n",
      "MonthlyRate 1427\n",
      "\n",
      "NumCompaniesWorked 10\n",
      "\n",
      "Over18 1\n",
      "\n",
      "OverTime 2\n",
      "\n",
      "PercentSalaryHike 15\n",
      "\n",
      "PerformanceRating 2\n",
      "\n",
      "RelationshipSatisfaction 4\n",
      "\n",
      "StandardHours 1\n",
      "\n",
      "StockOptionLevel 4\n",
      "\n",
      "TotalWorkingYears 40\n",
      "\n",
      "TrainingTimesLastYear 7\n",
      "\n",
      "WorkLifeBalance 4\n",
      "\n",
      "YearsAtCompany 37\n",
      "\n",
      "YearsInCurrentRole 19\n",
      "\n",
      "YearsSinceLastPromotion 16\n",
      "\n",
      "YearsWithCurrManager 18\n",
      "\n"
     ]
    }
   ],
   "source": [
    "# Vamos verificar o quão variante são os valores de cada coluna do nosso DataFrame\n",
    "#e entender a partir deles quais podemos utilizar como variáveis categóricas.\n",
    "\n",
    "for c in df.columns:\n",
    "    print(c, df[c].nunique())\n",
    "    print()"
   ]
  },
  {
   "cell_type": "markdown",
   "id": "a014508b-346a-43be-878b-3211d0b9c30b",
   "metadata": {},
   "source": [
    "### O que é preciso para uma variável ser considerada como categórica? "
   ]
  },
  {
   "cell_type": "markdown",
   "id": "d88a4d4e-1101-4031-958b-11a8078bd48c",
   "metadata": {},
   "source": [
    "É possível identificar se uma coluna pode ou não ser classificada como uma \"variável categórica\" pela variância de seus valores e neste caso devemos considerar que uma grande variação dos dados não nos permite considerar esta coluna como categórica, e também pelo propósito que aquela coluna tem no nosso Dataset, ou seja, não basta ter uma pequena variação de dados é necessário também entendermos se aqueles dados podem de fato categorizar os registros do nosso Dataset. Inclusive analisar a semântica de uma variável para determina-la como categórica é mais determinante do que analisar o quão variante é seus dados.\n",
    "\n",
    "Um exemplo, a coluna \"Age\" possui 43 variações, um número relativamente baixo se comparado com o total de registros (1470), ou seja, quantitativamente falando é \"ok\" determina-la como categórica, mas trata-se de um dado muito dinâmico, ou seja, estamos falando de uma variável na qual os dados pertencentes a uma certa categoria vão pertencer depois de no máximo 365 dias e isso contraria o conceito de categorização.  \n",
    "\n",
    "É importante ressaltar, valores de poucas variações e não mutáveis, em resumo, variáveis discretas."
   ]
  },
  {
   "cell_type": "markdown",
   "id": "62a1abcd-41c4-4020-a301-933603a0019b",
   "metadata": {},
   "source": [
    "### Variáveis categóricas ordenadas e não ordernadas "
   ]
  },
  {
   "cell_type": "markdown",
   "id": "3a82060e-410c-4021-8692-afa892c14bbf",
   "metadata": {},
   "source": [
    "Uma vez vez que uma variável é considerada como categórica temos mais uma análise a ser feita se ela é ordenada ou não.\n",
    "\n",
    "Analisando algumas variáveis categóricas do Dataset, são elas: \n",
    "\n",
    " - \"Department\"\n",
    " - \"EnvironmentSatisfaction\"\n",
    "\n",
    "São variáveis de nenhum dinamismo e pouca varição, podem ser consideradas como categóricas:"
   ]
  },
  {
   "cell_type": "code",
   "execution_count": 7,
   "id": "22bc9299-32d6-4a58-9602-6503363a2417",
   "metadata": {},
   "outputs": [
    {
     "name": "stdout",
     "output_type": "stream",
     "text": [
      "Variável 'Department' tem 3 variações\n",
      "Variável 'EnvironmentSatisfaction' tem 4 variações\n"
     ]
    }
   ],
   "source": [
    "print(\"Variável 'Department' tem\", df[\"Department\"].nunique(), \"variações\") \n",
    "print(\"Variável 'EnvironmentSatisfaction' tem\", df[\"EnvironmentSatisfaction\"].nunique(), \"variações\") "
   ]
  },
  {
   "cell_type": "markdown",
   "id": "6216f9d3-4cc8-4422-8fab-621d9828ada0",
   "metadata": {},
   "source": [
    "Ok, depois de concluirmos que são variáveis categóricas chegou a hora de notar uma diferença, a variável \"EnvironmentSatisfaction\" tem uma \"hierarquia\" trata-se de indetificar o nível de satisfação dos funcionários com a empresa, **logo podemos concluir que é uma variável categórica ordernada, por que possui uma hierarquia onde um conjunto de dados está 'acima' (ou melhor, maior e etc...) ou 'abaixo' do outro**. Agora fica fácil de entender que a variável 'Department' não tem esta caracteristica, **trata-se de uma variável categórica não ordenada, onde cada conjunto é completamente \"independente\" do outro, não há 'comparação' de grandeza alguma entre eles**, não há um departamento \"melhor\", \"maior\" que o outro (será? :D). "
   ]
  }
 ],
 "metadata": {
  "kernelspec": {
   "display_name": "Python 3 (ipykernel)",
   "language": "python",
   "name": "python3"
  },
  "language_info": {
   "codemirror_mode": {
    "name": "ipython",
    "version": 3
   },
   "file_extension": ".py",
   "mimetype": "text/x-python",
   "name": "python",
   "nbconvert_exporter": "python",
   "pygments_lexer": "ipython3",
   "version": "3.11.7"
  }
 },
 "nbformat": 4,
 "nbformat_minor": 5
}
