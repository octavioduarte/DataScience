{
 "cells": [
  {
   "cell_type": "code",
   "execution_count": 1,
   "id": "144dd326-4123-4eee-a96e-0deb72e83f29",
   "metadata": {},
   "outputs": [],
   "source": [
    "import pandas as pd\n",
    "\n",
    "BASE = \"../datasets/Pokemon.csv\"\n",
    "\n",
    "df = pd.read_csv(BASE)"
   ]
  },
  {
   "cell_type": "markdown",
   "id": "5c884fc2-ad69-4c10-8b18-6c5694d433c4",
   "metadata": {},
   "source": [
    "Supondo que eu deseje exportar nosso DataFrame depois de ter removido os valores inválidos:"
   ]
  },
  {
   "cell_type": "code",
   "execution_count": 16,
   "id": "63f2314f-3284-4b33-bfa8-3c49997bf3a1",
   "metadata": {},
   "outputs": [],
   "source": [
    "df_without_invalid_values = df[ (df[\"type1\"] != \"Blastoise\") & (df[\"type1\"] != \"Graass\") ] # Removendo valores incorretos\n",
    "df_without_invalid_values = df_without_invalid_values.reset_index()  # Resetando os indexes"
   ]
  },
  {
   "cell_type": "markdown",
   "id": "ffac98ce-f65c-4b6e-8f2b-15746805ba7b",
   "metadata": {},
   "source": [
    "Para exportar basta utilizar o método que vai exportar (normalmente tem o formato `to_tipo do arquivo(caminho_que_desejo_exportar)`)"
   ]
  },
  {
   "cell_type": "code",
   "execution_count": 22,
   "id": "8f19722f-3be5-4a99-beb8-817e63426b0a",
   "metadata": {},
   "outputs": [],
   "source": [
    "# Quando exportamos os dados no formato abaixo o Pandas por padrão adiciona uma coluna indice no\n",
    "# nosso DataFrame e isso pode ser uma coisa ruim por que ele sempre fará isso por padrão.\n",
    "df_without_invalid_values.to_csv(\"../datasets/PokemonComIndice.csv\")"
   ]
  },
  {
   "cell_type": "code",
   "execution_count": 23,
   "id": "8e2e71f4-489e-40eb-8e0c-9805ff0906ac",
   "metadata": {},
   "outputs": [],
   "source": [
    "# Para resolver esse problema basta passarmos um argumento para a função\n",
    "df_without_invalid_values.to_csv(\"../datasets/PokemonSemIndice.csv\", index=False)"
   ]
  }
 ],
 "metadata": {
  "kernelspec": {
   "display_name": "Python 3 (ipykernel)",
   "language": "python",
   "name": "python3"
  },
  "language_info": {
   "codemirror_mode": {
    "name": "ipython",
    "version": 3
   },
   "file_extension": ".py",
   "mimetype": "text/x-python",
   "name": "python",
   "nbconvert_exporter": "python",
   "pygments_lexer": "ipython3",
   "version": "3.11.7"
  }
 },
 "nbformat": 4,
 "nbformat_minor": 5
}
