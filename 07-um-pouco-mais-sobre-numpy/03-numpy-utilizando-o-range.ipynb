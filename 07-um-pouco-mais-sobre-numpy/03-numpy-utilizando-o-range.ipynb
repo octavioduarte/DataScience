{
 "cells": [
  {
   "cell_type": "markdown",
   "id": "371352d8-f479-45ca-b24b-b1a462255faa",
   "metadata": {},
   "source": [
    "Importando NumPy"
   ]
  },
  {
   "cell_type": "code",
   "execution_count": 2,
   "id": "7c2d8439-90b6-4620-ba3d-13db793ca98b",
   "metadata": {},
   "outputs": [],
   "source": [
    "import numpy as np"
   ]
  },
  {
   "cell_type": "markdown",
   "id": "d2d26c24-bae6-4006-bb57-09ffe3ee9c5b",
   "metadata": {},
   "source": [
    "Criando lista com 5 elementos"
   ]
  },
  {
   "cell_type": "code",
   "execution_count": 4,
   "id": "77444e72-67e6-4fca-87ce-ca2c8fef1466",
   "metadata": {},
   "outputs": [
    {
     "data": {
      "text/plain": [
       "array([0, 1, 2, 3, 4])"
      ]
     },
     "execution_count": 4,
     "metadata": {},
     "output_type": "execute_result"
    }
   ],
   "source": [
    "list_with_5_elements = np.arange(5)\n",
    "list_with_5_elements"
   ]
  },
  {
   "cell_type": "markdown",
   "id": "45243299-17d8-42ff-b5e7-cc038c455d28",
   "metadata": {},
   "source": [
    "Criando uma lista com indice inicial e final customizados (inicial é incluído no array o final não)"
   ]
  },
  {
   "cell_type": "code",
   "execution_count": 7,
   "id": "c590c87a-f343-4c97-ad51-e38a43001689",
   "metadata": {},
   "outputs": [
    {
     "data": {
      "text/plain": [
       "array([ 5,  6,  7,  8,  9, 10, 11, 12, 13, 14, 15])"
      ]
     },
     "execution_count": 7,
     "metadata": {},
     "output_type": "execute_result"
    }
   ],
   "source": [
    "llist_starts_at_7_ends_15 = np.arange(5, 16)\n",
    "llist_starts_at_7_ends_15"
   ]
  },
  {
   "cell_type": "markdown",
   "id": "09cee4dd-c425-407d-9bf6-ed65207e9537",
   "metadata": {},
   "source": [
    "Criando uma lista com indice inicial e final customizados e aplicando uma regra entre cada indice"
   ]
  },
  {
   "cell_type": "code",
   "execution_count": 8,
   "id": "3207b926-6e98-4136-a533-810f950fa544",
   "metadata": {},
   "outputs": [
    {
     "data": {
      "text/plain": [
       "array([ 0,  2,  4,  6,  8, 10, 12, 14, 16, 18, 20, 22, 24, 26, 28, 30, 32,\n",
       "       34, 36, 38, 40, 42, 44, 46, 48])"
      ]
     },
     "execution_count": 8,
     "metadata": {},
     "output_type": "execute_result"
    }
   ],
   "source": [
    "just_even_numbers_between_0_and_50 = np.arange(0, 50, 2)\n",
    "just_even_numbers_between_0_and_50"
   ]
  },
  {
   "cell_type": "markdown",
   "id": "ee85b958-bf09-4e3c-ad55-295f176a857a",
   "metadata": {},
   "source": [
    "Criando uma matriz com o arange"
   ]
  },
  {
   "cell_type": "code",
   "execution_count": 26,
   "id": "e090b3a0-3fbe-43eb-a77f-670c020de01a",
   "metadata": {},
   "outputs": [
    {
     "data": {
      "text/plain": [
       "array([[1, 2, 3],\n",
       "       [4, 5, 6]])"
      ]
     },
     "execution_count": 26,
     "metadata": {},
     "output_type": "execute_result"
    }
   ],
   "source": [
    "rows_amount = 2\n",
    "columns_amount = 3\n",
    "\n",
    "arr = np.arange(1, 7).reshape(rows_amount, columns_amount)\n",
    "arr"
   ]
  },
  {
   "cell_type": "markdown",
   "id": "ed895a14-e6dd-47b7-985e-f2df49bda141",
   "metadata": {},
   "source": [
    "Obtendo total de linhas e colunas da nossa matriz"
   ]
  },
  {
   "cell_type": "code",
   "execution_count": 27,
   "id": "cf38e66a-9085-4de2-ba92-71d695cc07db",
   "metadata": {},
   "outputs": [
    {
     "data": {
      "text/plain": [
       "(2, 3)"
      ]
     },
     "execution_count": 27,
     "metadata": {},
     "output_type": "execute_result"
    }
   ],
   "source": [
    "arr.shape"
   ]
  }
 ],
 "metadata": {
  "kernelspec": {
   "display_name": "Python 3 (ipykernel)",
   "language": "python",
   "name": "python3"
  },
  "language_info": {
   "codemirror_mode": {
    "name": "ipython",
    "version": 3
   },
   "file_extension": ".py",
   "mimetype": "text/x-python",
   "name": "python",
   "nbconvert_exporter": "python",
   "pygments_lexer": "ipython3",
   "version": "3.11.7"
  }
 },
 "nbformat": 4,
 "nbformat_minor": 5
}
