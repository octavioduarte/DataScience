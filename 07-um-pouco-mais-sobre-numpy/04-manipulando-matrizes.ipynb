{
 "cells": [
  {
   "cell_type": "markdown",
   "id": "48827dd9-437d-4224-a2f9-6c0709c73298",
   "metadata": {},
   "source": [
    "# Acessando dados de uma matriz"
   ]
  },
  {
   "cell_type": "code",
   "execution_count": 18,
   "id": "b37f3a46-bdc5-4d00-9edd-9f9bad1629e7",
   "metadata": {},
   "outputs": [
    {
     "data": {
      "text/plain": [
       "array([[ 0,  1,  2,  3,  4],\n",
       "       [ 5,  6,  7,  8,  9],\n",
       "       [10, 11, 12, 13, 14],\n",
       "       [15, 16, 17, 18, 19]])"
      ]
     },
     "execution_count": 18,
     "metadata": {},
     "output_type": "execute_result"
    }
   ],
   "source": [
    "import numpy as np\n",
    "\n",
    "m = np.arange(20).reshape(4,5)\n",
    "m"
   ]
  },
  {
   "cell_type": "markdown",
   "id": "adc88467-afb9-4112-ade0-84f8d77bab14",
   "metadata": {},
   "source": [
    "Acessar dados de uma matriz segue os mesmos principios de acessar os dados de um array, abaixo desejo acessar o 3º elemento da linha 4.\n",
    "\n",
    "~~~python\n",
    "m[3] # me retornaria [15, 16, 17, 18, 19]\n",
    "# Dentro da linha retornada desejo obter o ultimo elemento, em um array de 5 itens o elemento de nº 4 será o ultimo, logo preciso de:\n",
    "m[3][4]\n",
    "~~~"
   ]
  },
  {
   "cell_type": "code",
   "execution_count": 20,
   "id": "e50163db-a58d-4c57-9a4b-419f7a6a74f9",
   "metadata": {},
   "outputs": [
    {
     "data": {
      "text/plain": [
       "19"
      ]
     },
     "execution_count": 20,
     "metadata": {},
     "output_type": "execute_result"
    }
   ],
   "source": [
    "last_item_of_last_row = m[3][4]\n",
    "last_item_of_last_row"
   ]
  },
  {
   "cell_type": "markdown",
   "id": "0f8d77b8-5039-4978-8774-53159c67b4d1",
   "metadata": {},
   "source": [
    "# Filtrando dados de uma matriz com uma condição"
   ]
  },
  {
   "cell_type": "code",
   "execution_count": 21,
   "id": "7a3f8e3f-ca29-41b2-aaa6-ca829a086ef9",
   "metadata": {},
   "outputs": [
    {
     "data": {
      "text/plain": [
       "array([10, 11, 12, 13, 14, 15, 16, 17, 18, 19])"
      ]
     },
     "execution_count": 21,
     "metadata": {},
     "output_type": "execute_result"
    }
   ],
   "source": [
    "just_numbers_bigger_than_9 = m[m > 9]\n",
    "just_numbers_bigger_than_9"
   ]
  },
  {
   "cell_type": "markdown",
   "id": "736886f2-5bbf-4908-90ef-0a7b9261be18",
   "metadata": {},
   "source": [
    "# Filtrando dados de uma matriz com mais de uma condição"
   ]
  },
  {
   "cell_type": "code",
   "execution_count": 29,
   "id": "f9ae425e-2d43-4d50-9219-01173bbadb4b",
   "metadata": {},
   "outputs": [
    {
     "data": {
      "text/plain": [
       "array([ 8,  9, 10, 11, 12, 13, 14])"
      ]
     },
     "execution_count": 29,
     "metadata": {},
     "output_type": "execute_result"
    }
   ],
   "source": [
    "m[(m > 7) & (m < 15)]"
   ]
  }
 ],
 "metadata": {
  "kernelspec": {
   "display_name": "Python 3 (ipykernel)",
   "language": "python",
   "name": "python3"
  },
  "language_info": {
   "codemirror_mode": {
    "name": "ipython",
    "version": 3
   },
   "file_extension": ".py",
   "mimetype": "text/x-python",
   "name": "python",
   "nbconvert_exporter": "python",
   "pygments_lexer": "ipython3",
   "version": "3.11.7"
  }
 },
 "nbformat": 4,
 "nbformat_minor": 5
}
