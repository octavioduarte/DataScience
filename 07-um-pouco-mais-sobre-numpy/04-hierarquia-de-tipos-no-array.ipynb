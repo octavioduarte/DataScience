{
 "cells": [
  {
   "cell_type": "markdown",
   "id": "b0d55ce9-9e43-4a26-b86b-8f875c5f8b3b",
   "metadata": {},
   "source": [
    "<p>No NumPy caso um Array tenha diferentes tipos (e neste caso ele passa a ser uma lista por que uma das caracteristicas de um array é que ele seja homogêneo) há uma \"hierarquia\" de tipos, exemplo:</p>"
   ]
  },
  {
   "cell_type": "code",
   "execution_count": 10,
   "id": "64ed6fdc-b46a-4a9c-89ec-6b18760d1d3c",
   "metadata": {},
   "outputs": [],
   "source": [
    "import numpy as np\n",
    "\n",
    "array_numbers = np.array([1,2,3,4,5])\n",
    "array_numbers_and_string = np.array([1,2,3,'4', 5])\n",
    "array_numbers_and_float =  np.array([1,2,3,4,5,6.7])\n",
    "array_numbers_strings_and_float = np.array(['1', 2, 3.4])"
   ]
  },
  {
   "cell_type": "code",
   "execution_count": 12,
   "id": "63bf0242-dd8e-4b5e-a6a5-8e983e6ba562",
   "metadata": {},
   "outputs": [
    {
     "name": "stdout",
     "output_type": "stream",
     "text": [
      "int64\n",
      "<U21\n",
      "float64\n",
      "<U32\n"
     ]
    }
   ],
   "source": [
    "print(array_numbers.dtype)\n",
    "print(array_numbers_and_string.dtype)\n",
    "print(array_numbers_and_float.dtype)\n",
    "print(array_numbers_strings_and_float.dtype)"
   ]
  },
  {
   "cell_type": "markdown",
   "id": "8ad84d1a-ccf6-4c9b-b7a2-11ef4bc4507b",
   "metadata": {},
   "source": [
    "Isso ocorre por que podemos converter qualquer número inteiro em texto, mas não determinados textos em números, então para fins de tipagem é mais seguro eu considerar o tipo mais \"genérico\" como predominante na lista, mesmo que quantitativamente falando ele seja menor."
   ]
  }
 ],
 "metadata": {
  "kernelspec": {
   "display_name": "Python 3 (ipykernel)",
   "language": "python",
   "name": "python3"
  },
  "language_info": {
   "codemirror_mode": {
    "name": "ipython",
    "version": 3
   },
   "file_extension": ".py",
   "mimetype": "text/x-python",
   "name": "python",
   "nbconvert_exporter": "python",
   "pygments_lexer": "ipython3",
   "version": "3.11.7"
  }
 },
 "nbformat": 4,
 "nbformat_minor": 5
}
