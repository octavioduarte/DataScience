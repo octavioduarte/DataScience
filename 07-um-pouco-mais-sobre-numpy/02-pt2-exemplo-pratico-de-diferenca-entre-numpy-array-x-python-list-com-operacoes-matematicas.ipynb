{
 "cells": [
  {
   "cell_type": "markdown",
   "id": "f66d942e-3f05-4e5f-9432-66a76351ee49",
   "metadata": {},
   "source": [
    "# Operações matemáticas - NumPy Array x Python List"
   ]
  },
  {
   "cell_type": "markdown",
   "id": "1a8515bd-1114-459f-afc0-b30416b3f266",
   "metadata": {},
   "source": [
    "É sempre importante ter em mente que o NumPy é uma biblioteca com um propósito singular de facilitar o desenvolvimento para aplicações de computação cientifica, enquanto o Python é uma linguagem de programação com um propósito bem mais abrangente, por tanto, algumas operações se diferenciam entre a linguagem e sua biblioteca por conta do paradigma em que foram criadas."
   ]
  },
  {
   "cell_type": "markdown",
   "id": "09e7668c-1634-4db3-a887-af177b1af607",
   "metadata": {},
   "source": [
    "Ao criar uma lista de inteiros em Python e tentar somar +1 para  todos os valores sem uma estrutura de repetição poderíamos imaginar o código abaixo:\n",
    "\n",
    "~~~python\n",
    "    python_list = [1, 2, 3, 4, 5] + 1\n",
    "~~~"
   ]
  },
  {
   "cell_type": "markdown",
   "id": "84d5d2af-b85e-4b31-affc-4defadfa3195",
   "metadata": {},
   "source": [
    "Mas ao executar o código acima vamos receber um erro que basicamente diz que não é possível concater uma lista com um valor inteiro:"
   ]
  },
  {
   "cell_type": "code",
   "execution_count": 4,
   "id": "ac6fb77b-a89d-4ddb-ade2-5111610065ed",
   "metadata": {},
   "outputs": [
    {
     "ename": "TypeError",
     "evalue": "can only concatenate list (not \"int\") to list",
     "output_type": "error",
     "traceback": [
      "\u001b[0;31m---------------------------------------------------------------------------\u001b[0m",
      "\u001b[0;31mTypeError\u001b[0m                                 Traceback (most recent call last)",
      "Cell \u001b[0;32mIn[4], line 1\u001b[0m\n\u001b[0;32m----> 1\u001b[0m python_list \u001b[38;5;241m=\u001b[39m [\u001b[38;5;241m1\u001b[39m, \u001b[38;5;241m2\u001b[39m, \u001b[38;5;241m3\u001b[39m, \u001b[38;5;241m4\u001b[39m, \u001b[38;5;241m5\u001b[39m] \u001b[38;5;241m+\u001b[39m \u001b[38;5;241m1\u001b[39m\n",
      "\u001b[0;31mTypeError\u001b[0m: can only concatenate list (not \"int\") to list"
     ]
    }
   ],
   "source": [
    "python_list = [1, 2, 3, 4, 5] + 1"
   ]
  },
  {
   "cell_type": "markdown",
   "id": "82f584ce-231d-419a-aa6f-5f1b4c2de645",
   "metadata": {},
   "source": [
    "Convertendo nosso 1 para uma lista o resultado não é o esperado também:"
   ]
  },
  {
   "cell_type": "code",
   "execution_count": 8,
   "id": "9f4f4960-46ac-4edf-85ae-ed5cfe1332ed",
   "metadata": {},
   "outputs": [
    {
     "data": {
      "text/plain": [
       "[1, 2, 3, 4, 5, 1]"
      ]
     },
     "execution_count": 8,
     "metadata": {},
     "output_type": "execute_result"
    }
   ],
   "source": [
    "python_list = [1, 2, 3, 4, 5] + [1]\n",
    "python_list"
   ]
  },
  {
   "cell_type": "markdown",
   "id": "b83cc4c4-bfa4-4563-a21b-0fdfa483354b",
   "metadata": {},
   "source": [
    "Ao invés de somar ele juntou as listas. Agora usando o array do NumPy que tem um propósito mais enviesado a lidar com operações matemáticas, o resultado é outro "
   ]
  },
  {
   "cell_type": "code",
   "execution_count": 12,
   "id": "ac822204-d5cb-4bd9-8af0-94d89010b3c4",
   "metadata": {},
   "outputs": [
    {
     "data": {
      "text/plain": [
       "array([2, 3, 4, 5, 6])"
      ]
     },
     "execution_count": 12,
     "metadata": {},
     "output_type": "execute_result"
    }
   ],
   "source": [
    "import numpy as np\n",
    "\n",
    "numpy_array = np.array([1, 2, 3, 4, 5]) + 1\n",
    "numpy_array"
   ]
  },
  {
   "cell_type": "markdown",
   "id": "79af16ef-a6ce-4128-ae64-63c8b9623f17",
   "metadata": {},
   "source": [
    "Este tipo de facilidade para lidar com operações matemáticas é o que torna o NumPy uma biblioteca muito útil em projetos de computação ciêntifica."
   ]
  }
 ],
 "metadata": {
  "kernelspec": {
   "display_name": "Python 3 (ipykernel)",
   "language": "python",
   "name": "python3"
  },
  "language_info": {
   "codemirror_mode": {
    "name": "ipython",
    "version": 3
   },
   "file_extension": ".py",
   "mimetype": "text/x-python",
   "name": "python",
   "nbconvert_exporter": "python",
   "pygments_lexer": "ipython3",
   "version": "3.11.7"
  }
 },
 "nbformat": 4,
 "nbformat_minor": 5
}
