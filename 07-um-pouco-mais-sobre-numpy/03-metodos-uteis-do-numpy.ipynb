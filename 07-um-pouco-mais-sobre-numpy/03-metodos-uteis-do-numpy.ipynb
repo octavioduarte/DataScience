{
 "cells": [
  {
   "cell_type": "markdown",
   "id": "f73586ec-480f-4d48-b63f-66eec9817696",
   "metadata": {},
   "source": [
    "# Alguns métodos úteis para usar em um array NumPy que vão ter uma boa performance se comparados com listas por conta da homogeneidade "
   ]
  },
  {
   "cell_type": "code",
   "execution_count": 2,
   "id": "eec07391-41dc-4879-9302-9cec6d592eec",
   "metadata": {},
   "outputs": [],
   "source": [
    "import numpy as np"
   ]
  },
  {
   "cell_type": "markdown",
   "id": "20ba08bb-4727-4141-a8d5-de94bdad626b",
   "metadata": {},
   "source": [
    "# np.sum()\n",
    "\n",
    "Retorna a soma de todos os valores de um array."
   ]
  },
  {
   "cell_type": "code",
   "execution_count": 3,
   "id": "3e9681b3-71fb-4eb4-8db5-19f7c05ae7e5",
   "metadata": {},
   "outputs": [
    {
     "data": {
      "text/plain": [
       "11843"
      ]
     },
     "execution_count": 3,
     "metadata": {},
     "output_type": "execute_result"
    }
   ],
   "source": [
    "array = np.array([1910, 1954, 1977, 1990, 2000, 2012])\n",
    "sum_of_array = np.sum(array)\n",
    "sum_of_array"
   ]
  },
  {
   "cell_type": "markdown",
   "id": "58109b01-c0c7-4d2b-9b1b-bac3b6dd5c11",
   "metadata": {},
   "source": [
    "# np.mean()\n",
    "\n",
    "Retorna a média dos valores de um array."
   ]
  },
  {
   "cell_type": "code",
   "execution_count": 4,
   "id": "ff76856b-d4ca-49fa-a72b-e6ba58bf8b94",
   "metadata": {},
   "outputs": [
    {
     "data": {
      "text/plain": [
       "2005.0"
      ]
     },
     "execution_count": 4,
     "metadata": {},
     "output_type": "execute_result"
    }
   ],
   "source": [
    "array = np.array([1990, 1998, 1999, 2005, 2011, 2015, 2017])\n",
    "avg_of_array = np.mean(array)\n",
    "avg_of_array"
   ]
  },
  {
   "cell_type": "markdown",
   "id": "13a24b7d-d779-4912-8f1f-cab1f028377a",
   "metadata": {},
   "source": [
    "# np.max() e np.min()\n",
    "\n",
    "`max()` retorna o maior valor de um array enquanto `min()`"
   ]
  },
  {
   "cell_type": "code",
   "execution_count": 7,
   "id": "4fa89f1c-bdf3-4c13-83b0-58c6490785d0",
   "metadata": {},
   "outputs": [
    {
     "name": "stdout",
     "output_type": "stream",
     "text": [
      "1995 2009\n"
     ]
    }
   ],
   "source": [
    "array = np.array([1995, 2002, 2009])\n",
    "max_value = np.max(array)\n",
    "min_value = np.min(array)\n",
    "\n",
    "print(min_value, max_value)"
   ]
  },
  {
   "cell_type": "markdown",
   "id": "cbed83c3-7df3-4cf6-aa2a-dd05069a1285",
   "metadata": {},
   "source": [
    "# np.sort()\n",
    "\n",
    "Retorna a lista ordenada"
   ]
  },
  {
   "cell_type": "code",
   "execution_count": 7,
   "id": "4c35b7f7-374a-45e7-8e5d-038ed24a10cc",
   "metadata": {},
   "outputs": [
    {
     "data": {
      "text/plain": [
       "array([1990, 1998, 1999, 2005, 2011, 2015, 2017])"
      ]
     },
     "execution_count": 7,
     "metadata": {},
     "output_type": "execute_result"
    }
   ],
   "source": [
    "array = np.array([1998, 2005, 2011, 1990, 2017, 1999, 2015])\n",
    "array_sorted = np.sort(array)\n",
    "array_sorted    "
   ]
  },
  {
   "cell_type": "markdown",
   "id": "98572f5a-2982-48ed-b74a-ffa98de81e76",
   "metadata": {},
   "source": [
    "# np.dot()\n",
    "\n",
    "Retorna o produto escalar de dois arrays."
   ]
  },
  {
   "cell_type": "code",
   "execution_count": 9,
   "id": "9c75fdb3-5e2c-42ad-96d7-fa90f4f05686",
   "metadata": {},
   "outputs": [
    {
     "name": "stdout",
     "output_type": "stream",
     "text": [
      "6000\n",
      "6000\n"
     ]
    }
   ],
   "source": [
    "products_amount = np.array([10, 20, 30, 40])\n",
    "products_price  = np.array([20, 40, 60, 80])\n",
    "\n",
    "dot_result = np.dot(products_amount, products_price)\n",
    "\n",
    "# É equivalente a:\n",
    "\n",
    "dot_v2 = np.sum(products_amount * products_price)\n",
    "\n",
    "print(dot_result)\n",
    "print(dot_v2)"
   ]
  },
  {
   "cell_type": "markdown",
   "id": "cac65fc8-38a2-4b37-981e-ac0fed4d54f7",
   "metadata": {},
   "source": [
    "# np.argmax()\n",
    "\n",
    "Retorna o indice do maior item do array."
   ]
  },
  {
   "cell_type": "code",
   "execution_count": 3,
   "id": "001b20eb-632a-4cf2-9bb6-0aa236e6ab0b",
   "metadata": {},
   "outputs": [
    {
     "data": {
      "text/plain": [
       "4"
      ]
     },
     "execution_count": 3,
     "metadata": {},
     "output_type": "execute_result"
    }
   ],
   "source": [
    "array = np.array([1998, 2005, 2011, 1990, 2017, 1999, 2015])\n",
    "index_bigger_item = np.argmax(array)\n",
    "index_bigger_item    "
   ]
  },
  {
   "cell_type": "markdown",
   "id": "ed99b0ed-5f81-48cf-aa16-75c2e6bef4c6",
   "metadata": {},
   "source": [
    "# np.argmin()\n",
    "\n",
    "Retorna o indice do menor item do array."
   ]
  },
  {
   "cell_type": "code",
   "execution_count": 5,
   "id": "4bf49b9c-b956-4f11-a74a-abd1839f0441",
   "metadata": {},
   "outputs": [
    {
     "data": {
      "text/plain": [
       "3"
      ]
     },
     "execution_count": 5,
     "metadata": {},
     "output_type": "execute_result"
    }
   ],
   "source": [
    "array = np.array([1998, 2005, 2011, 1990, 2017, 1999, 2015])\n",
    "index_smaller_item = np.argmin(array)\n",
    "index_smaller_item    "
   ]
  },
  {
   "cell_type": "markdown",
   "id": "dadec24e-c99e-4e45-862f-3605b501526d",
   "metadata": {},
   "source": [
    "# np.median()\n",
    "\n",
    "Retorna a mediana (Mediana é um valor que divide um conjunto de dados em duas partes iguais. Para encontrá-la, devemos organizar os dados em uma ordem crescente ou decrescente e escolher o valor do meio. Se houver um número ímpar de dados, a mediana será exatamente o valor central. Se houver um número par de dados, a mediana será a média dos dois valores do meio).median"
   ]
  },
  {
   "cell_type": "code",
   "execution_count": 8,
   "id": "f3addc59-be08-4245-8024-ca32f6dc72fe",
   "metadata": {},
   "outputs": [
    {
     "data": {
      "text/plain": [
       "2005.0"
      ]
     },
     "execution_count": 8,
     "metadata": {},
     "output_type": "execute_result"
    }
   ],
   "source": [
    "array = np.array([1998, 2005, 2011, 1990, 2017, 1999, 2015])\n",
    "median = np.median(array)\n",
    "median    "
   ]
  },
  {
   "cell_type": "markdown",
   "id": "445d1630-ab82-4d84-97bd-e2b156b56bac",
   "metadata": {},
   "source": [
    "# np.percentile()\n",
    "\n",
    "O percentil é uma medida estatística que indica a posição relativa de um dado dentro de um conjunto de dados. Ele informa a porcentagem de valores que estão abaixo desse dado. Por exemplo, o percentil 50 (também conhecido como mediana) divide os dados em duas partes iguais, com 50% dos valores abaixo dele e 50% acima.\n",
    "\n",
    "https://www.youtube.com/watch?v=WGrrDcoG2A8"
   ]
  },
  {
   "cell_type": "code",
   "execution_count": 16,
   "id": "d45a4663-22ec-47a7-8257-6b0fd985c904",
   "metadata": {},
   "outputs": [
    {
     "data": {
      "text/plain": [
       "1998.98"
      ]
     },
     "execution_count": 16,
     "metadata": {},
     "output_type": "execute_result"
    }
   ],
   "source": [
    "array = np.array([1998, 2005, 2011, 1990, 2017, 1999, 2015])\n",
    "percentile = np.percentile(array, 33)\n",
    "percentile    "
   ]
  },
  {
   "cell_type": "markdown",
   "id": "91b7b1c5-4d0e-4873-a63f-2abc15c59a53",
   "metadata": {},
   "source": [
    "# np.std()\n",
    "\n",
    "Retorna o desvio padrão entre os dados.\n",
    "\n",
    "Lembrando que:\n",
    " - O desvio padrão é o resultado da raiz quadrada do desvio, que por sua vez o desvio é o resultado do elemento menos a média.\n",
    "\n",
    "Na prática: \n",
    "\n",
    "    [1, 2, 3, 4] --> Média é a soma de todos os elementos dividivo pelo tamanho da array\n",
    "    \n",
    "    (1 + 2 + 3 + 4) / 4 ==> Média é igual a 2.5\n",
    "\n",
    "    O desvio é a subtração de cada elemento pela média: \n",
    "\n",
    "    1 - 2.5 = (-1.5)² = 2.25 --> Desvio\n",
    "    2 - 2.5 = (-0.5)² = 0.25 --> Desvio\n",
    "    3 - 2.5 =  0.5²   = 0.25 --> Desvio\n",
    "    4 - 2.5 =  1.5²   = 2.25 --> Desvio\n",
    "\n",
    "\n",
    "    Finalmente para obtermos a variância (desvio padrão)\n",
    "\n",
    "    2.25 + 0.25 + 0.25 + 2.25       =  5    =  1.25 --> Raiz quadrada de 1.25 é igual a 1.118\n",
    "    -------------------------------   ---- \n",
    "                  4                    4              "
   ]
  },
  {
   "cell_type": "code",
   "execution_count": 10,
   "id": "d66ebcd1-4806-47bb-8469-189362663a2c",
   "metadata": {},
   "outputs": [
    {
     "data": {
      "text/plain": [
       "2.5"
      ]
     },
     "execution_count": 10,
     "metadata": {},
     "output_type": "execute_result"
    }
   ],
   "source": [
    "list = np.array([1, 2, 3, 4])\n",
    "list.mean() # Média"
   ]
  },
  {
   "cell_type": "code",
   "execution_count": 13,
   "id": "809e0026-01ac-4a72-bf3a-39ec39f6ee3d",
   "metadata": {},
   "outputs": [
    {
     "name": "stdout",
     "output_type": "stream",
     "text": [
      "1.118033988749895\n",
      "1.118033988749895\n"
     ]
    }
   ],
   "source": [
    "import math\n",
    "\n",
    "print(math.sqrt(1.25))\n",
    "print(list.std())"
   ]
  }
 ],
 "metadata": {
  "kernelspec": {
   "display_name": "Python 3 (ipykernel)",
   "language": "python",
   "name": "python3"
  },
  "language_info": {
   "codemirror_mode": {
    "name": "ipython",
    "version": 3
   },
   "file_extension": ".py",
   "mimetype": "text/x-python",
   "name": "python",
   "nbconvert_exporter": "python",
   "pygments_lexer": "ipython3",
   "version": "3.11.7"
  }
 },
 "nbformat": 4,
 "nbformat_minor": 5
}
