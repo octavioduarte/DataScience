{
 "cells": [
  {
   "cell_type": "markdown",
   "id": "f73586ec-480f-4d48-b63f-66eec9817696",
   "metadata": {},
   "source": [
    "# Alguns métodos úteis para usar em um array NumPy que vão ter uma boa performance se comparados com listas por conta da homogeneidade "
   ]
  },
  {
   "cell_type": "code",
   "execution_count": 2,
   "id": "eec07391-41dc-4879-9302-9cec6d592eec",
   "metadata": {},
   "outputs": [],
   "source": [
    "import numpy as np"
   ]
  },
  {
   "cell_type": "markdown",
   "id": "20ba08bb-4727-4141-a8d5-de94bdad626b",
   "metadata": {},
   "source": [
    "# np.sum()\n",
    "\n",
    "Retorna a soma de todos os valores de um array."
   ]
  },
  {
   "cell_type": "code",
   "execution_count": 3,
   "id": "3e9681b3-71fb-4eb4-8db5-19f7c05ae7e5",
   "metadata": {},
   "outputs": [
    {
     "data": {
      "text/plain": [
       "11843"
      ]
     },
     "execution_count": 3,
     "metadata": {},
     "output_type": "execute_result"
    }
   ],
   "source": [
    "array = np.array([1910, 1954, 1977, 1990, 2000, 2012])\n",
    "sum_of_array = np.sum(array)\n",
    "sum_of_array"
   ]
  },
  {
   "cell_type": "markdown",
   "id": "58109b01-c0c7-4d2b-9b1b-bac3b6dd5c11",
   "metadata": {},
   "source": [
    "# np.mean()\n",
    "\n",
    "Retorna a média dos valores de um array."
   ]
  },
  {
   "cell_type": "code",
   "execution_count": 4,
   "id": "ff76856b-d4ca-49fa-a72b-e6ba58bf8b94",
   "metadata": {},
   "outputs": [
    {
     "data": {
      "text/plain": [
       "2005.0"
      ]
     },
     "execution_count": 4,
     "metadata": {},
     "output_type": "execute_result"
    }
   ],
   "source": [
    "array = np.array([1990, 1998, 1999, 2005, 2011, 2015, 2017])\n",
    "avg_of_array = np.mean(array)\n",
    "avg_of_array"
   ]
  },
  {
   "cell_type": "markdown",
   "id": "13a24b7d-d779-4912-8f1f-cab1f028377a",
   "metadata": {},
   "source": [
    "# np.max() e np.min()\n",
    "\n",
    "`max()` retorna o maior valor de um array enquanto `min()`"
   ]
  },
  {
   "cell_type": "code",
   "execution_count": 7,
   "id": "4fa89f1c-bdf3-4c13-83b0-58c6490785d0",
   "metadata": {},
   "outputs": [
    {
     "name": "stdout",
     "output_type": "stream",
     "text": [
      "1995 2009\n"
     ]
    }
   ],
   "source": [
    "array = np.array([1995, 2002, 2009])\n",
    "max_value = np.max(array)\n",
    "min_value = np.min(array)\n",
    "\n",
    "print(min_value, max_value)"
   ]
  },
  {
   "cell_type": "markdown",
   "id": "cbed83c3-7df3-4cf6-aa2a-dd05069a1285",
   "metadata": {},
   "source": [
    "# np.sort()\n",
    "\n",
    "Retorna a lista ordenada"
   ]
  },
  {
   "cell_type": "code",
   "execution_count": 7,
   "id": "4c35b7f7-374a-45e7-8e5d-038ed24a10cc",
   "metadata": {},
   "outputs": [
    {
     "data": {
      "text/plain": [
       "array([1990, 1998, 1999, 2005, 2011, 2015, 2017])"
      ]
     },
     "execution_count": 7,
     "metadata": {},
     "output_type": "execute_result"
    }
   ],
   "source": [
    "array = np.array([1998, 2005, 2011, 1990, 2017, 1999, 2015])\n",
    "array_sorted = np.sort(array)\n",
    "array_sorted    "
   ]
  },
  {
   "cell_type": "markdown",
   "id": "98572f5a-2982-48ed-b74a-ffa98de81e76",
   "metadata": {},
   "source": [
    "# np.dot()\n",
    "\n",
    "Retorna o produto escalar de dois arrays."
   ]
  },
  {
   "cell_type": "code",
   "execution_count": 9,
   "id": "9c75fdb3-5e2c-42ad-96d7-fa90f4f05686",
   "metadata": {},
   "outputs": [
    {
     "name": "stdout",
     "output_type": "stream",
     "text": [
      "6000\n",
      "6000\n"
     ]
    }
   ],
   "source": [
    "products_amount = np.array([10, 20, 30, 40])\n",
    "products_price  = np.array([20, 40, 60, 80])\n",
    "\n",
    "dot_result = np.dot(products_amount, products_price)\n",
    "\n",
    "# É equivalente a:\n",
    "\n",
    "dot_v2 = np.sum(products_amount * products_price)\n",
    "\n",
    "print(dot_result)\n",
    "print(dot_v2)"
   ]
  }
 ],
 "metadata": {
  "kernelspec": {
   "display_name": "Python 3 (ipykernel)",
   "language": "python",
   "name": "python3"
  },
  "language_info": {
   "codemirror_mode": {
    "name": "ipython",
    "version": 3
   },
   "file_extension": ".py",
   "mimetype": "text/x-python",
   "name": "python",
   "nbconvert_exporter": "python",
   "pygments_lexer": "ipython3",
   "version": "3.11.7"
  }
 },
 "nbformat": 4,
 "nbformat_minor": 5
}
