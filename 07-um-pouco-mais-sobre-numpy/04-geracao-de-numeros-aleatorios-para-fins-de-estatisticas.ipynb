{
 "cells": [
  {
   "cell_type": "markdown",
   "id": "38a2eb01-2292-4c77-8ca4-2efc9095b34e",
   "metadata": {},
   "source": [
    "# Geração de dados aleatórios\n",
    "\n",
    "Na área de ciência de dados é comum a geração de valores aleatórios, isso ocorre por que nem sempre temos acesso aos dados produtivos\n",
    "na maioria das vezes por questões de segurança ou simplesmente por que esses dados ainda não existem. Por conta disso criamos um conjunto\n",
    "de valores para testar um modelo de machine learning, realizar testes de hipótese, análise de robustez, simulações e etc. \n",
    "\n",
    "Existe um módulo dentro do NumPy que visa lidar com a criação de dados neste sentido:\n",
    "\n",
    "https://numpy.org/doc/stable/reference/random/generator.html"
   ]
  },
  {
   "cell_type": "code",
   "execution_count": 2,
   "id": "25f11331-b190-4d96-bc0a-1fbb372b2d35",
   "metadata": {},
   "outputs": [],
   "source": [
    "import numpy as np"
   ]
  },
  {
   "cell_type": "code",
   "execution_count": 3,
   "id": "36c4b393-b0c4-4dce-9869-7941656ccb01",
   "metadata": {},
   "outputs": [
    {
     "data": {
      "text/plain": [
       "Generator(PCG64) at 0x7FB85A5AE6C0"
      ]
     },
     "execution_count": 3,
     "metadata": {},
     "output_type": "execute_result"
    }
   ],
   "source": [
    "rng = np.random.default_rng()\n",
    "rng"
   ]
  },
  {
   "cell_type": "markdown",
   "id": "ded96568-fc02-4c72-b74b-f9c7286c1fe2",
   "metadata": {},
   "source": [
    "Com o código acima temos a classe `Generator` instanciada, por padrão ela gera números no formato PCG64 que é basicamente um \"protocolo\" de geração de números para fins de estatisticas, os números gerados apesar de aleatórios seguem um padrão que vai nos ajudar no cenário da computação ciêntifica."
   ]
  },
  {
   "cell_type": "code",
   "execution_count": 8,
   "id": "09ab6dca-f858-4513-a632-f2181cc47be9",
   "metadata": {},
   "outputs": [
    {
     "data": {
      "text/plain": [
       "0.305271108045549"
      ]
     },
     "execution_count": 8,
     "metadata": {},
     "output_type": "execute_result"
    }
   ],
   "source": [
    "rng.random() # Por padrão o método range gera números entre 0 e 1"
   ]
  },
  {
   "cell_type": "markdown",
   "id": "1ee9156b-3834-4798-890b-e1e84340f2a3",
   "metadata": {},
   "source": [
    "Se quisermos gerar um array com números aleatórios, basta passar o total de elementos que desejamos obter como argumento para a função:"
   ]
  },
  {
   "cell_type": "code",
   "execution_count": 11,
   "id": "6416606e-cfa6-4b50-8ffe-7b06d7028dd5",
   "metadata": {},
   "outputs": [
    {
     "name": "stdout",
     "output_type": "stream",
     "text": [
      "[0.22322289]\n",
      "[0.14000801 0.73071249]\n",
      "[0.83487529 0.58380033 0.50799283]\n"
     ]
    }
   ],
   "source": [
    "array_with_one_element = rng.random(1)\n",
    "array_with_two_elements = rng.random(2)\n",
    "array_with_three_elements = rng.random(3)\n",
    "\n",
    "\n",
    "print(array_with_one_element)\n",
    "print(array_with_two_elements)\n",
    "print(array_with_three_elements)"
   ]
  },
  {
   "cell_type": "markdown",
   "id": "3e4c218c-3bb5-400e-9787-1e9543dc3d20",
   "metadata": {},
   "source": [
    "# Geração de números inteiros"
   ]
  },
  {
   "cell_type": "code",
   "execution_count": 42,
   "id": "b0f71f75-9dfd-4b8d-923f-234071f8da14",
   "metadata": {},
   "outputs": [
    {
     "data": {
      "text/plain": [
       "array([1973, 1955, 1970, 1958, 1956, 1966, 1976, 1970, 1971, 1970])"
      ]
     },
     "execution_count": 42,
     "metadata": {},
     "output_type": "execute_result"
    }
   ],
   "source": [
    "rng.integers(low=1954, high=1977, size=10)"
   ]
  },
  {
   "cell_type": "markdown",
   "id": "8daa566a-fc87-444e-b15b-4a603733e700",
   "metadata": {},
   "source": [
    "Onde:\n",
    "\n",
    "`low` =  Determina que os números devem ser gerados a partir do valor passado (o valo é incluído) <br/>\n",
    "`high` = Determina que os números devem ser gerados até o valor passado (o valo não é incluído)  <br/>\n",
    "`size` = Total de números a serem gerados"
   ]
  },
  {
   "cell_type": "markdown",
   "id": "dabb8125-fcf8-42dc-ba2a-64a5a16a381c",
   "metadata": {},
   "source": [
    "# Persistindo números gerados com o seed"
   ]
  },
  {
   "cell_type": "markdown",
   "id": "2e7d80cc-bf21-4578-9e87-cd7c8e660005",
   "metadata": {},
   "source": [
    "Na documentação do NumPy nós podemos ver que é possível gerar resultados reproduzíveis mesmo falando de aleatoriedade, isso é útil para um trabalho em equipe onde desejamos obter sempre o mesmo conjunto de dados. \n",
    "\n",
    "https://numpy.org/doc/stable/reference/random/generator.html"
   ]
  },
  {
   "cell_type": "code",
   "execution_count": 60,
   "id": "987fd85b-74c5-47c0-9853-50222a9272a0",
   "metadata": {},
   "outputs": [
    {
     "data": {
      "text/plain": [
       "array([1919, 1988, 1976, 1954, 1954, 1997, 1918, 1981, 1930, 1919, 1963,\n",
       "       2009, 1985, 1987, 1983, 1990, 1962, 1923, 1995, 1955, 1961, 1947,\n",
       "       1928, 2004, 1989, 1975, 1951, 1993, 1965, 1955])"
      ]
     },
     "execution_count": 60,
     "metadata": {},
     "output_type": "execute_result"
    }
   ],
   "source": [
    "rng = np.random.default_rng(seed=42) # fuxando o resultado com o uso do seed\n",
    "\n",
    "random_data = rng.integers(low=1910, high=2012, size=30)\n",
    "random_data"
   ]
  },
  {
   "cell_type": "code",
   "execution_count": null,
   "id": "9a7e2654-0972-41b6-ba12-d7621df3f70c",
   "metadata": {},
   "outputs": [],
   "source": []
  }
 ],
 "metadata": {
  "kernelspec": {
   "display_name": "Python 3 (ipykernel)",
   "language": "python",
   "name": "python3"
  },
  "language_info": {
   "codemirror_mode": {
    "name": "ipython",
    "version": 3
   },
   "file_extension": ".py",
   "mimetype": "text/x-python",
   "name": "python",
   "nbconvert_exporter": "python",
   "pygments_lexer": "ipython3",
   "version": "3.11.7"
  }
 },
 "nbformat": 4,
 "nbformat_minor": 5
}
