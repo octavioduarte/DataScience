{
 "cells": [
  {
   "cell_type": "markdown",
   "id": "1ee3011f-4825-4c8b-b813-1f02fc9e1778",
   "metadata": {},
   "source": [
    "## np.reshape()\n",
    "\n",
    "O `np.reshape()` serve para criarmos um novo formato de Array a partir de um Array existente.\n",
    "\n",
    "https://numpy.org/doc/stable/reference/generated/numpy.reshape.html </br>\n",
    "https://www.w3schools.com/python/numpy/numpy_array_reshape.asp"
   ]
  },
  {
   "cell_type": "code",
   "execution_count": 1,
   "id": "4c582ecc-5127-44aa-9935-486442c5c68f",
   "metadata": {},
   "outputs": [],
   "source": [
    "import numpy as np"
   ]
  },
  {
   "cell_type": "code",
   "execution_count": 32,
   "id": "667930ac-8166-43b4-afcc-0dad93113c91",
   "metadata": {},
   "outputs": [
    {
     "name": "stdout",
     "output_type": "stream",
     "text": [
      "array:  [ 0  1  2  3  4  5  6  7  8  9 10 11]\n",
      "ndim:   1\n",
      "shape:  (12,)\n"
     ]
    }
   ],
   "source": [
    "arr = np.arange(12)\n",
    "print(\"array: \",  arr)\n",
    "print(\"ndim:  \",  arr.ndim)   # Uma única dimensão\n",
    "print(\"shape: \",  arr.shape)  # No formato vemos uma tupla indicando que há 12 elementos"
   ]
  },
  {
   "cell_type": "markdown",
   "id": "dbe3ed3a-b793-49ce-8b2c-9704ee2c446c",
   "metadata": {},
   "source": [
    "## Reshape 1-D para 2-D\n"
   ]
  },
  {
   "cell_type": "code",
   "execution_count": 21,
   "id": "3f52f019-77f8-4d83-9c80-862d061a42b5",
   "metadata": {},
   "outputs": [
    {
     "data": {
      "text/plain": [
       "array([[ 0,  1,  2,  3],\n",
       "       [ 4,  5,  6,  7],\n",
       "       [ 8,  9, 10, 11]])"
      ]
     },
     "execution_count": 21,
     "metadata": {},
     "output_type": "execute_result"
    }
   ],
   "source": [
    "arr_reshaped_2D = arr.reshape(3, 4) # Indicando 3 linhas e 4 colunas\n",
    "arr_reshaped_2D"
   ]
  },
  {
   "cell_type": "code",
   "execution_count": null,
   "id": "7c687036-7b9b-45ac-a0f3-fba0efbf4edf",
   "metadata": {},
   "outputs": [],
   "source": []
  },
  {
   "cell_type": "code",
   "execution_count": 22,
   "id": "39c5e90f-ed4f-4975-85f6-4e0b6b7de8c1",
   "metadata": {},
   "outputs": [
    {
     "name": "stdout",
     "output_type": "stream",
     "text": [
      "ndim:   2\n",
      "shape:  (3, 4)\n"
     ]
    }
   ],
   "source": [
    "print(\"ndim:  \",  arr_reshaped_2D.ndim)   # Duas dimensões\n",
    "print(\"shape: \",  arr_reshaped_2D.shape)  # No formato vemos uma tupla indicando que há 12 elementos divididos em 3 linhas e 4 colunas"
   ]
  }
 ],
 "metadata": {
  "kernelspec": {
   "display_name": "Python 3 (ipykernel)",
   "language": "python",
   "name": "python3"
  },
  "language_info": {
   "codemirror_mode": {
    "name": "ipython",
    "version": 3
   },
   "file_extension": ".py",
   "mimetype": "text/x-python",
   "name": "python",
   "nbconvert_exporter": "python",
   "pygments_lexer": "ipython3",
   "version": "3.11.7"
  }
 },
 "nbformat": 4,
 "nbformat_minor": 5
}
