{
 "cells": [
  {
   "cell_type": "markdown",
   "id": "8070db63-1a69-4dbd-84fb-afce2394c432",
   "metadata": {},
   "source": [
    "## np.where()\n",
    "\n",
    "Retorna os índices dos elementos de um array que correspondem a um determinado filtro"
   ]
  },
  {
   "cell_type": "code",
   "execution_count": 2,
   "id": "a19f9b40-aa24-4da4-8f01-aae473206c5a",
   "metadata": {},
   "outputs": [],
   "source": [
    "import numpy as np"
   ]
  },
  {
   "cell_type": "code",
   "execution_count": 46,
   "id": "cae12449-80e5-4d05-8e96-a653df5ed602",
   "metadata": {},
   "outputs": [],
   "source": [
    "SCCP = 35_000_000\n",
    "SFC  = 8_000_000\n",
    "SPFC = 22_000_000\n",
    "SEP  = 15_000_000\n",
    "\n",
    "supporters_amount_sp = np.array([SCCP, SFC, SPFC, SEP])"
   ]
  },
  {
   "cell_type": "code",
   "execution_count": 22,
   "id": "00dffeeb-998a-4482-b6dd-d42e593e9930",
   "metadata": {},
   "outputs": [
    {
     "data": {
      "text/plain": [
       "20000000.0"
      ]
     },
     "execution_count": 22,
     "metadata": {},
     "output_type": "execute_result"
    }
   ],
   "source": [
    "avg_supporters = np.mean(supporters_amount_sp) # Média\n",
    "avg_supporters"
   ]
  },
  {
   "cell_type": "code",
   "execution_count": 45,
   "id": "21a71e0e-c13b-4b0b-b26e-0cda53a3284b",
   "metadata": {},
   "outputs": [
    {
     "data": {
      "text/plain": [
       "(array([0, 2]),)"
      ]
     },
     "execution_count": 45,
     "metadata": {},
     "output_type": "execute_result"
    }
   ],
   "source": [
    "index_of_clubs_with_amount_supporters_bigger_than_avg = np.where(supporters_amount_sp > avg_supporters)\n",
    "index_of_clubs_with_amount_supporters_bigger_than_avg"
   ]
  },
  {
   "cell_type": "markdown",
   "id": "f2efcc1b-bbd7-4f33-9967-7ba1aef936ea",
   "metadata": {},
   "source": [
    "O `np.where()` **retorna os indices** dos elementos que correspondem a busca.\n",
    "\n",
    "Podemos verificar todos estes valores na lista original passando todos os indices de uma unica vez:"
   ]
  },
  {
   "cell_type": "code",
   "execution_count": 47,
   "id": "2dec1ca7-0e43-49ec-8bb5-ec0d89ff8b18",
   "metadata": {},
   "outputs": [
    {
     "data": {
      "text/plain": [
       "array([35000000, 22000000])"
      ]
     },
     "execution_count": 47,
     "metadata": {},
     "output_type": "execute_result"
    }
   ],
   "source": [
    "supporters_amount_sp[index_of_clubs_with_amount_supporters_bigger_than_avg]"
   ]
  },
  {
   "cell_type": "markdown",
   "id": "105fc141-7dff-4354-ae52-a88d0ea5e409",
   "metadata": {},
   "source": [
    "### É possível obtermos os valores filtrando diretamente no array também:"
   ]
  },
  {
   "cell_type": "code",
   "execution_count": 48,
   "id": "5480efad-4dbe-40ee-aa75-5d1376699692",
   "metadata": {},
   "outputs": [
    {
     "data": {
      "text/plain": [
       "array([35000000, 22000000])"
      ]
     },
     "execution_count": 48,
     "metadata": {},
     "output_type": "execute_result"
    }
   ],
   "source": [
    "supporters_amount_sp[supporters_amount_sp > avg_supporters]"
   ]
  },
  {
   "cell_type": "code",
   "execution_count": 49,
   "id": "307a446e-bd0d-4dac-b7fb-b74ad8dc65b3",
   "metadata": {},
   "outputs": [],
   "source": [
    "### Avançando com o np.where()"
   ]
  },
  {
   "cell_type": "markdown",
   "id": "b740aa30-627e-42b4-ae4d-649368bfd1f7",
   "metadata": {},
   "source": [
    "### Podemos criar um novo array com valores customizados quando atendem ou não a condicional:"
   ]
  },
  {
   "cell_type": "code",
   "execution_count": 52,
   "id": "b6f96d63-ceed-4dd1-b24d-b378022f5832",
   "metadata": {},
   "outputs": [
    {
     "data": {
      "text/plain": [
       "array(['Acima da média', 'Abaixo da média', 'Acima da média',\n",
       "       'Abaixo da média'], dtype='<U15')"
      ]
     },
     "execution_count": 52,
     "metadata": {},
     "output_type": "execute_result"
    }
   ],
   "source": [
    "np.where(supporters_amount_sp > avg_supporters, 'Acima da média', 'Abaixo da média')"
   ]
  },
  {
   "cell_type": "markdown",
   "id": "643fdaf7-dc47-4ef4-9c34-ccab8f2e4b2b",
   "metadata": {},
   "source": [
    "### Podemos usar o iterador na nossa condicional:"
   ]
  },
  {
   "cell_type": "code",
   "execution_count": 70,
   "id": "5f349045-ec3c-4727-9eeb-72282ce06dcd",
   "metadata": {},
   "outputs": [
    {
     "name": "stdout",
     "output_type": "stream",
     "text": [
      "[35000000  8000000 22000000 15000000]\n",
      "[35000000.  8800000. 22000000. 16500000.]\n"
     ]
    }
   ],
   "source": [
    "clubs_calc =  np.where(supporters_amount_sp < avg_supporters, supporters_amount_sp * 1.1, supporters_amount_sp)\n",
    "\n",
    "print(supporters_amount_sp)\n",
    "print(clubs_calc)"
   ]
  },
  {
   "cell_type": "markdown",
   "id": "2aae890d-40b3-41fb-a15f-5c6b5ae18a13",
   "metadata": {},
   "source": [
    "### Multiplas condicionais"
   ]
  },
  {
   "cell_type": "code",
   "execution_count": 74,
   "id": "9d6ac8d3-db72-4d5d-aeef-6b4d59956dd4",
   "metadata": {},
   "outputs": [
    {
     "data": {
      "text/plain": [
       "(array([0]),)"
      ]
     },
     "execution_count": 74,
     "metadata": {},
     "output_type": "execute_result"
    }
   ],
   "source": [
    "np.where((supporters_amount_sp > 30_000_000) & (supporters_amount_sp < 40_000_000) ) # Ressaltando que o que será retornado é o índice"
   ]
  },
  {
   "cell_type": "code",
   "execution_count": 75,
   "id": "da49c324-9087-42f2-8ca9-599e106b12c9",
   "metadata": {},
   "outputs": [
    {
     "data": {
      "text/plain": [
       "(array([0, 1]),)"
      ]
     },
     "execution_count": 75,
     "metadata": {},
     "output_type": "execute_result"
    }
   ],
   "source": [
    "np.where((supporters_amount_sp < 10_000_000) | (supporters_amount_sp > 30_000_000) ) # Ressaltando que o que será retornado é o índice\n"
   ]
  }
 ],
 "metadata": {
  "kernelspec": {
   "display_name": "Python 3 (ipykernel)",
   "language": "python",
   "name": "python3"
  },
  "language_info": {
   "codemirror_mode": {
    "name": "ipython",
    "version": 3
   },
   "file_extension": ".py",
   "mimetype": "text/x-python",
   "name": "python",
   "nbconvert_exporter": "python",
   "pygments_lexer": "ipython3",
   "version": "3.11.7"
  }
 },
 "nbformat": 4,
 "nbformat_minor": 5
}
