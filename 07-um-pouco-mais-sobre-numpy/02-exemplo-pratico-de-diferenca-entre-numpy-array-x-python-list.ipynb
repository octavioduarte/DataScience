{
 "cells": [
  {
   "cell_type": "markdown",
   "id": "da9509df-945a-4089-a25a-d2861647c84a",
   "metadata": {},
   "source": [
    "<p>O código abaixo retornará um erro, listas em Python não permitem operações com diferentes tipos</p>"
   ]
  },
  {
   "cell_type": "code",
   "execution_count": null,
   "id": "29eb2744-e370-4b42-8fdc-a597317bcf4d",
   "metadata": {},
   "outputs": [],
   "source": [
    "sccp_important_years = [1910, 1914, 1954, 1977, 1990, 2000, 2012]\n",
    "sccp_important_sccp_years * 1.5"
   ]
  },
  {
   "cell_type": "markdown",
   "id": "204fe692-149c-4f41-8398-c50bb764a138",
   "metadata": {},
   "source": [
    "O NumPy permite operações matemáticas com diferentes tipos de dado"
   ]
  },
  {
   "cell_type": "code",
   "execution_count": null,
   "id": "08bedd51-bcf2-44c6-8710-cd137e5d68b5",
   "metadata": {},
   "outputs": [],
   "source": [
    "import numpy as np\n",
    "\n",
    "sccp_important_years_as_array = np.array([1910, 1914, 1954, 1977, 1990, 2000, 2012])\n",
    "sccp_important_years_as_array * 1.5\n",
    "\n",
    "#output\n",
    "# array([2865. , 2871. , 2931. , 2965.5, 2985. , 3000. , 3018. ])"
   ]
  }
 ],
 "metadata": {
  "kernelspec": {
   "display_name": "Python 3 (ipykernel)",
   "language": "python",
   "name": "python3"
  },
  "language_info": {
   "codemirror_mode": {
    "name": "ipython",
    "version": 3
   },
   "file_extension": ".py",
   "mimetype": "text/x-python",
   "name": "python",
   "nbconvert_exporter": "python",
   "pygments_lexer": "ipython3",
   "version": "3.11.7"
  }
 },
 "nbformat": 4,
 "nbformat_minor": 5
}
