{
 "cells": [
  {
   "cell_type": "markdown",
   "id": "da9509df-945a-4089-a25a-d2861647c84a",
   "metadata": {},
   "source": [
    "<p>O código abaixo retornará um erro, listas em Python não permitem operações com diferentes tipos</p>"
   ]
  },
  {
   "cell_type": "code",
   "execution_count": null,
   "id": "29eb2744-e370-4b42-8fdc-a597317bcf4d",
   "metadata": {},
   "outputs": [],
   "source": [
    "sccp_important_years = [1910, 1914, 1954, 1977, 1990, 2000, 2012]\n",
    "sccp_important_sccp_years * 1.5"
   ]
  },
  {
   "cell_type": "markdown",
   "id": "204fe692-149c-4f41-8398-c50bb764a138",
   "metadata": {},
   "source": [
    "O NumPy permite operações matemáticas com diferentes tipos de dado"
   ]
  },
  {
   "cell_type": "code",
   "execution_count": 3,
   "id": "08bedd51-bcf2-44c6-8710-cd137e5d68b5",
   "metadata": {},
   "outputs": [
    {
     "data": {
      "text/plain": [
       "array([2865. , 2871. , 2931. , 2965.5, 2985. , 3000. , 3018. ])"
      ]
     },
     "execution_count": 3,
     "metadata": {},
     "output_type": "execute_result"
    }
   ],
   "source": [
    "import numpy as np\n",
    "\n",
    "sccp_important_years_as_array = np.array([1910, 1914, 1954, 1977, 1990, 2000, 2012])\n",
    "sccp_important_years_as_array * 1.5\n",
    "\n",
    "#output\n",
    "# array([2865. , 2871. , 2931. , 2965.5, 2985. , 3000. , 3018. ])"
   ]
  },
  {
   "cell_type": "markdown",
   "id": "a76f998c-feac-4faa-8623-ed2d1f48c44b",
   "metadata": {},
   "source": [
    "Uma outra diferença é que ao contrário das listas em Python um Array no NumPy é homogêneo, ou seja, possui apenas um tipo, este é um dos motivos para o NumPy ter uma melhor performance do que a manipulação de listas em Python.\n",
    "\n",
    "No exemplo abaixo vamos criar um Array com diferentes tipos no NumPy e ver como ele converte isso para um dado homogêneo:"
   ]
  },
  {
   "cell_type": "code",
   "execution_count": 4,
   "id": "f037f974-a435-4b81-945c-f0d5658ed8eb",
   "metadata": {},
   "outputs": [
    {
     "data": {
      "text/plain": [
       "array([1. , 2.3, 4. , 5. ])"
      ]
     },
     "execution_count": 4,
     "metadata": {},
     "output_type": "execute_result"
    }
   ],
   "source": [
    "np.array([1, 2.3, 4, 5])"
   ]
  },
  {
   "cell_type": "markdown",
   "id": "3b38c4d0-d3ab-45d2-afe1-75f6e4c627c4",
   "metadata": {},
   "source": [
    "No exemplo acima podemos notar que o NumPy converteu os nossos valores inteiros para valores com ponto flutuante, isso acontece por que quando o NumPy recebe uma lista com diferentes tipos, ele vai converter todos os tipos da lista para o tipo mais genérico.\n",
    "\n",
    "Se fizessemos uma lista \"hierarquica\" do mais genérico ao menos considerando os dados do tipo texto, ponto flutuante e inteiro, temos a seguinte ordem:\n",
    "\n",
    "1º Texto (str)\n",
    "2º Ponto Flutuante (float)\n",
    "3º Inteiro (int)\n",
    "\n",
    "O raciocinio aqui é, eu consigo converter qualquer dado do tipo inteiro ou ponto flutuante para um texto, mas o mesmo não ocorre de informa inversa. Em resumo se uma lista tiver diferentes tipos de dados o NumPy vai converter todos os dados para o tipo mais genérico."
   ]
  },
  {
   "cell_type": "code",
   "execution_count": 14,
   "id": "52bcc71b-a2e5-4f6f-b3cb-6aa98e80a588",
   "metadata": {},
   "outputs": [
    {
     "name": "stdout",
     "output_type": "stream",
     "text": [
      "['1' '2' '3' '4' '5' '6']\n",
      "[1. 2. 3. 4. 5. 6. 7.]\n",
      "['1' '2.1' '3']\n",
      "[1 2 3 4 5]\n"
     ]
    }
   ],
   "source": [
    "print(np.array([1, 2, 3, 4, 5, '6'])) # todos passam a ser do tipo texto\n",
    "print(np.array([1, 2, 3, 4, 5, 6, 7.0])) # todos passam a ser do tipo ponto flutuante\n",
    "print(np.array([1, 2.1, '3']))  # todos passsam a ser di tipo texto\n",
    "print(np.array([1, 2, 3, 4, 5])) # todos são inteiros"
   ]
  },
  {
   "cell_type": "markdown",
   "id": "65fca363-00ed-4916-bf4a-7a8a2f75c20e",
   "metadata": {},
   "source": [
    "Listas em Python não fazem tornam nosso dado homôgeneo, uma vez que ela tenha diferentes valores, isso será prevalecido"
   ]
  },
  {
   "cell_type": "code",
   "execution_count": 15,
   "id": "0db38bed-f521-4c23-9ab4-0b8d2b57b193",
   "metadata": {},
   "outputs": [
    {
     "name": "stdout",
     "output_type": "stream",
     "text": [
      "[1, 2, 3, '4']\n"
     ]
    }
   ],
   "source": [
    "print([1, 2, 3, '4']) # [0:3] --> inteir, apenas o ultimo elemento  prevalece como 'texto'"
   ]
  }
 ],
 "metadata": {
  "kernelspec": {
   "display_name": "Python 3 (ipykernel)",
   "language": "python",
   "name": "python3"
  },
  "language_info": {
   "codemirror_mode": {
    "name": "ipython",
    "version": 3
   },
   "file_extension": ".py",
   "mimetype": "text/x-python",
   "name": "python",
   "nbconvert_exporter": "python",
   "pygments_lexer": "ipython3",
   "version": "3.11.7"
  }
 },
 "nbformat": 4,
 "nbformat_minor": 5
}
